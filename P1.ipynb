{
  "nbformat": 4,
  "nbformat_minor": 0,
  "metadata": {
    "colab": {
      "name": "P1.ipynb",
      "provenance": [],
      "collapsed_sections": [],
      "toc_visible": true
    },
    "kernelspec": {
      "display_name": "Python 3",
      "language": "python",
      "name": "python3"
    },
    "language_info": {
      "codemirror_mode": {
        "name": "ipython",
        "version": 3
      },
      "file_extension": ".py",
      "mimetype": "text/x-python",
      "name": "python",
      "nbconvert_exporter": "python",
      "pygments_lexer": "ipython3",
      "version": "3.7.6"
    }
  },
  "cells": [
    {
      "cell_type": "markdown",
      "metadata": {
        "id": "RwJAApzbF4Of"
      },
      "source": [
        "# 1. RNNs para series de tiempo"
      ]
    },
    {
      "cell_type": "markdown",
      "metadata": {
        "id": "o_LwBzSZFjl2"
      },
      "source": [
        "<hr style=\"height:2px;border:none\"/>\n",
        "<h1 align='center'> <img src=\"http://www.exalumnos.usm.cl/wp-content/uploads/2015/06/Isotipo-Negro.gif\" title=\"Title text\" width=\"20%\" height=\"20%\" />\n",
        "\n",
        "INF-395 / 477 / 577 Tarea 2 Redes Neuronales Artificiales - 2020-2 </h1>\n",
        "\n",
        "<H3 align='center'> Integrantes: Paula Nieto - Gabriela Sepúlveda </H3>\n",
        "<hr style=\"height:2px;border:none\"/>\n",
        "\n",
        "**Temas**  \n",
        "* Manipulaciones en tensorflow, keras, pandas y numpy\n",
        "* Recurrent Neural Networks\n",
        "* LSTM, GRU\n",
        "* Autoencoders\n",
        "* GAN\n",
        "\n",
        "**Formalidades**  \n",
        "* Equipos de trabajo de 2 personas (*Ambos estudiantes deben estar preparados para presentar la tarea el día de la entrega*)\n",
        "* El entregable debe ser un _Jupyter Notebook_ incluyendo los códigos utilizados, los resultados, los gráficos realizados y comentarios. Debe seguir una estructura similar a un informe (se debe introducir los problemas a trabajar, presentar los resultados y discutirlos). Si lo prefiere puede entregar un _Jupyter Notebook_ por pregunta o uno para toda la tarea, con tal de que todos los entregables estén bien identificados y se encuentren en el mismo repositorio de _Github_.\n",
        "* Se debe preparar una presentación del trabajo realizado y sus hallazgos. El presentador será elegido aleatoriamente y deberá apoyarse en el _Jupyter Notebook_ que entregarán. \n",
        "* Formato de entrega: envı́o de link del repositorio en _Github_ ( en caso de ser repositorio privado, invitar como colaborador al usuario de github \"Aerlio\") al correo electrónico del ayudante (*<tomas.ochoa.14@sansano.usm.cl>*), en copia al profesor (*<cvalle@inf.utfsm.cl>*). Especificar el siguiente asunto: [INF395/477/577-2020 Tarea 2]\n",
        "* Fecha de entrega y presentaciones: 8 de Enero. Hora límite de entrega: 23:00. Cualquier _commit_ luego de la hora límite no será evaluado. Se realizará descuento por atrasos en envío del mail. \n",
        "\n",
        "<hr style=\"height:2px;border:none\"/>\n",
        "\n",
        "La tarea se divide en tres partes:\n",
        "\n",
        "[1.](#primero) RNNs para series de tiempo  <br>\n",
        "[2.](#segundo) RNNs para texto <br>\n",
        "[3.](#tercero) Autoencoders para imágenes <br>\n",
        "[3.](#cuarto) GANs para imágenes <br>\n",
        "\n",
        "La tarea tiene ejemplos de códigos con los cuales pueden guiarse en gran parte, sin embargo solo son guías y pueden ser creativos al momento de resolver la tarea. Soluciones creativas o elegantes serán valoradas. También en algunas ocaciones se hacen elecciones arbitrarias, ustedes pueden realizar otras elecciones con tal de que haya una pequeña justificación de por qué su elección es mejor o equivalente.\n",
        "Recuerden intercalar su código con comentarios y con celdas _Markdown_ con los comentarios de la pregunta y con cualquier analisis, fórmula o explicación que les parezca relevante para justificar sus procedimientos. \n",
        "Noten que en general cuando se les pide elegir algo o proponer algo no se evaluará mucho la elección en si, en cambio la argumentación detrás de la elección será lo más ponderado.\n",
        "\n",
        "**Es ÁLTAMENTE recomendado realizar esta tarea en _Colab_ de Google (https://colab.research.google.com/notebooks/intro.ipynb#recent=true), con el fin de no depender del rendimiento de su computador personal al momento de entrenar redes neuronales y poder compartir de forma fácil sus avances con su compañer@ de trabajo.** Si bien conlleva sus pros y contras utilizar _Colab_ , existirá una curva de aprendizaje personal que lo ayudará a sacar el mayor provecho a esta herramienta, por ejemplo aprendiendo a guardar los avances realizados, evitando tener que ejecutar todo el código cada vez que se abra _Colab_ . *Tip: Una vez abierto un notebook en _Colab_ ir a **entorno de ejecución**->**Cambiar tipo de entorno de ejecución**, y seleccionár TPU como acelerador por hardware para redes recurrentes y GPU para redes convolucionales.*."
      ]
    },
    {
      "cell_type": "markdown",
      "metadata": {
        "id": "2gMDgpLG_TkD"
      },
      "source": [
        "Las redes neuronales recurrentes (RNNs) son una red neuronal profunda que tiene, como su nombre indica, entradas recurrentes en la capa oculta, es decir, la salida de una capa oculta se retroalimenta a sí misma. La memoria neuronal es la capacidad impartida a un modelo para retener la entrada de los pasos de tiempo anteriores cuando la entrada es secuencial. En términos simples, cuando nuestro problema está asociado con una secuencia de datos como una oración o una serie temporal o la letra de una canción, el modelo tiene que recordar los estados previos de la entrada para funcionar.\n",
        "\n",
        "<h1 align='center'> <img src=\"https://www.hobodataloggers.com.au/images/thumbs/0007371_hobo-weather-station-kits_510.jpeg\" width=\"50%\" height=\"100%\" /> </h1>\n",
        "\n",
        "En esta pregunta trabajaremos con datos obtenidos presumiblemente de una estación meteorológica, los cuales se obtienen desde el sitio https://www.kaggle.com/dronio/SolarEnergy, este dataset contiene mediciones de los últimos 4 meses. Nuestro objetivo será predecir el nivel de radiación solar para la próximas 24 horas.\n"
      ]
    },
    {
      "cell_type": "markdown",
      "metadata": {
        "id": "TadtgytHIXFp"
      },
      "source": [
        "## 1.a Carga de datos y preprocesamiento."
      ]
    },
    {
      "cell_type": "markdown",
      "metadata": {
        "id": "nujeesYmts-a"
      },
      "source": [
        "##### I) Iniciaremos cargando los datos. Para esto necesitará crear una cuenta en kaggle, dirigirse a su perfil, ir a Account, y en la sección API apretar _Create new API token_ , se descargará un archivo kaggle.json, ábralo como archivo de texto y obtenga su username y key. Luego ejecute el siguiente código (desconozco por qué pero a veces hay que ejecutar el código 2 veces para que funcione). Solución obtenida desde el hilo: https://gist.github.com/jayspeidell/d10b84b8d3da52df723beacc5b15cb27"
      ]
    },
    {
      "cell_type": "code",
      "metadata": {
        "id": "cRBEyJOar8M_",
        "colab": {
          "base_uri": "https://localhost:8080/"
        },
        "outputId": "dc9f032f-61fc-46a9-dde1-4337f917fb8c"
      },
      "source": [
        "username=\"gabrielasepulveda\"\n",
        "key=\"c4e7170af8d4e1a4413214439170379f\"\n",
        "\n",
        "!pip install -q kaggle\n",
        "api_token = {\"username\":username,\"key\":key}\n",
        "import json\n",
        "import zipfile\n",
        "import os\n",
        "os.environ['KAGGLE_USERNAME'] = str(username)\n",
        "os.environ['KAGGLE_KEY'] = str(key)\n",
        "!kaggle datasets download -d dronio/SolarEnergy\n",
        "if not os.path.exists(\"/content/solar_prediction\"):\n",
        "    os.makedirs(\"/content/solar_prediction\")\n",
        "os.chdir('/content/solar_prediction')\n",
        "for file in os.listdir():\n",
        "    if file[-4:]==\".zip\":\n",
        "      zip_ref = zipfile.ZipFile(file, 'r')\n",
        "      zip_ref.extractall()\n",
        "      zip_ref.close()\n",
        "!ls"
      ],
      "execution_count": null,
      "outputs": [
        {
          "output_type": "stream",
          "text": [
            "Downloading SolarEnergy.zip to /content/solar_prediction\n",
            "\r  0% 0.00/511k [00:00<?, ?B/s]\n",
            "\r100% 511k/511k [00:00<00:00, 76.1MB/s]\n",
            "SolarEnergy.zip  SolarPrediction.csv\n"
          ],
          "name": "stdout"
        }
      ]
    },
    {
      "cell_type": "markdown",
      "metadata": {
        "id": "CULz-BF_FB5Q"
      },
      "source": [
        "Procederemos a ordenar la serie temporalmente a continuación."
      ]
    },
    {
      "cell_type": "code",
      "metadata": {
        "id": "x09Tz0-WEwos",
        "colab": {
          "base_uri": "https://localhost:8080/",
          "height": 225
        },
        "outputId": "041e0d23-af7c-4947-b035-ae1ef85a3f71"
      },
      "source": [
        "import numpy as np\n",
        "import matplotlib.pyplot as plt\n",
        "import seaborn as sns\n",
        "import pandas as pd\n",
        "from datetime import datetime\n",
        "from pytz import timezone\n",
        "import pytz\n",
        "hawaii= timezone('Pacific/Honolulu') # to convert unixtime\n",
        "dataset = pd.read_csv('SolarPrediction.csv') # read data\n",
        "dataset = dataset.sort_values(['UNIXTime'], ascending = [True]) #sort data\n",
        "dataset.index =  pd.to_datetime(dataset['UNIXTime'], unit='s') # make unix pandas dataframe index\n",
        "dataset.index = dataset.index.tz_localize(pytz.utc).tz_convert(hawaii) # convert unixtime to timestamp\n",
        "dataset.drop(['Data','Time','TimeSunRise','TimeSunSet',\"UNIXTime\"], inplace=True, axis=1) # drop extra-time variables\n",
        "dataset.head()"
      ],
      "execution_count": null,
      "outputs": [
        {
          "output_type": "execute_result",
          "data": {
            "text/html": [
              "<div>\n",
              "<style scoped>\n",
              "    .dataframe tbody tr th:only-of-type {\n",
              "        vertical-align: middle;\n",
              "    }\n",
              "\n",
              "    .dataframe tbody tr th {\n",
              "        vertical-align: top;\n",
              "    }\n",
              "\n",
              "    .dataframe thead th {\n",
              "        text-align: right;\n",
              "    }\n",
              "</style>\n",
              "<table border=\"1\" class=\"dataframe\">\n",
              "  <thead>\n",
              "    <tr style=\"text-align: right;\">\n",
              "      <th></th>\n",
              "      <th>Radiation</th>\n",
              "      <th>Temperature</th>\n",
              "      <th>Pressure</th>\n",
              "      <th>Humidity</th>\n",
              "      <th>WindDirection(Degrees)</th>\n",
              "      <th>Speed</th>\n",
              "    </tr>\n",
              "    <tr>\n",
              "      <th>UNIXTime</th>\n",
              "      <th></th>\n",
              "      <th></th>\n",
              "      <th></th>\n",
              "      <th></th>\n",
              "      <th></th>\n",
              "      <th></th>\n",
              "    </tr>\n",
              "  </thead>\n",
              "  <tbody>\n",
              "    <tr>\n",
              "      <th>2016-09-01 00:00:08-10:00</th>\n",
              "      <td>2.58</td>\n",
              "      <td>51</td>\n",
              "      <td>30.43</td>\n",
              "      <td>103</td>\n",
              "      <td>77.27</td>\n",
              "      <td>11.25</td>\n",
              "    </tr>\n",
              "    <tr>\n",
              "      <th>2016-09-01 00:05:10-10:00</th>\n",
              "      <td>2.83</td>\n",
              "      <td>51</td>\n",
              "      <td>30.43</td>\n",
              "      <td>103</td>\n",
              "      <td>153.44</td>\n",
              "      <td>9.00</td>\n",
              "    </tr>\n",
              "    <tr>\n",
              "      <th>2016-09-01 00:20:06-10:00</th>\n",
              "      <td>2.16</td>\n",
              "      <td>51</td>\n",
              "      <td>30.43</td>\n",
              "      <td>103</td>\n",
              "      <td>142.04</td>\n",
              "      <td>7.87</td>\n",
              "    </tr>\n",
              "    <tr>\n",
              "      <th>2016-09-01 00:25:05-10:00</th>\n",
              "      <td>2.21</td>\n",
              "      <td>51</td>\n",
              "      <td>30.43</td>\n",
              "      <td>103</td>\n",
              "      <td>144.12</td>\n",
              "      <td>18.00</td>\n",
              "    </tr>\n",
              "    <tr>\n",
              "      <th>2016-09-01 00:30:09-10:00</th>\n",
              "      <td>2.25</td>\n",
              "      <td>51</td>\n",
              "      <td>30.43</td>\n",
              "      <td>103</td>\n",
              "      <td>67.42</td>\n",
              "      <td>11.25</td>\n",
              "    </tr>\n",
              "  </tbody>\n",
              "</table>\n",
              "</div>"
            ],
            "text/plain": [
              "                           Radiation  ...  Speed\n",
              "UNIXTime                              ...       \n",
              "2016-09-01 00:00:08-10:00       2.58  ...  11.25\n",
              "2016-09-01 00:05:10-10:00       2.83  ...   9.00\n",
              "2016-09-01 00:20:06-10:00       2.16  ...   7.87\n",
              "2016-09-01 00:25:05-10:00       2.21  ...  18.00\n",
              "2016-09-01 00:30:09-10:00       2.25  ...  11.25\n",
              "\n",
              "[5 rows x 6 columns]"
            ]
          },
          "metadata": {
            "tags": []
          },
          "execution_count": 3
        }
      ]
    },
    {
      "cell_type": "markdown",
      "metadata": {
        "id": "ibeKMwIbIJDW"
      },
      "source": [
        "**Comentario:** Se puede observar inmediatamente que existen datos faltantes, los cuales no son declarados. Dado que de los 6 datos impresos se puede inferir que el timestep es de 5 minutos, y faltarían los datos del instante 2016-09-01 ~00:10:00 y 2016-09-01 ~00:15:00"
      ]
    },
    {
      "cell_type": "markdown",
      "metadata": {
        "id": "ynK6758JG14A"
      },
      "source": [
        "A continuación se proveen comandos con los cuales se puede observar cómo a partir del timestamp generado se puede categorizar con comandos simples el dataset según minuto del día, hora del día, mes del año, y día del año. Los cuales se ocuparán durante la tarea. "
      ]
    },
    {
      "cell_type": "code",
      "metadata": {
        "id": "B3-ZbTBtGtHl",
        "colab": {
          "base_uri": "https://localhost:8080/"
        },
        "outputId": "e11bbd3b-0ac9-42e5-fa4e-9d4bdcaf56f0"
      },
      "source": [
        "dataset.index.minute,dataset.index.hour,dataset.index.month,dataset.index.dayofyear"
      ],
      "execution_count": null,
      "outputs": [
        {
          "output_type": "execute_result",
          "data": {
            "text/plain": [
              "(Int64Index([ 0,  5, 20, 25, 30, 45, 50, 55,  0,  5,\n",
              "             ...\n",
              "             10, 15, 20, 25, 30, 35, 40, 45, 50, 55],\n",
              "            dtype='int64', name='UNIXTime', length=32686),\n",
              " Int64Index([ 0,  0,  0,  0,  0,  0,  0,  0,  1,  1,\n",
              "             ...\n",
              "             23, 23, 23, 23, 23, 23, 23, 23, 23, 23],\n",
              "            dtype='int64', name='UNIXTime', length=32686),\n",
              " Int64Index([ 9,  9,  9,  9,  9,  9,  9,  9,  9,  9,\n",
              "             ...\n",
              "             12, 12, 12, 12, 12, 12, 12, 12, 12, 12],\n",
              "            dtype='int64', name='UNIXTime', length=32686),\n",
              " Int64Index([245, 245, 245, 245, 245, 245, 245, 245, 245, 245,\n",
              "             ...\n",
              "             366, 366, 366, 366, 366, 366, 366, 366, 366, 366],\n",
              "            dtype='int64', name='UNIXTime', length=32686))"
            ]
          },
          "metadata": {
            "tags": []
          },
          "execution_count": 4
        }
      ]
    },
    {
      "cell_type": "markdown",
      "metadata": {
        "id": "dvgVnZsPH4C7"
      },
      "source": [
        "##### II) Para poder idententificar los Missing Values, y poder contar de manera segura con días de 24 horas, ejecute el siguiente código. **Explique** la funcionalidad del código escrito, escribiendo en forma de comentario (#) sobre las líneas de este código."
      ]
    },
    {
      "cell_type": "code",
      "metadata": {
        "id": "fsPpNHe9JXGk",
        "colab": {
          "base_uri": "https://localhost:8080/"
        },
        "outputId": "2787e1f8-b56b-4fcd-fc84-31ca3c446a2d"
      },
      "source": [
        "import time\n",
        "# Se define el tiempo inicial\n",
        "t1=time.time() \n",
        "# Se crea una matriz m x n, m = samples, n = columnas del dataset + 1 (tiempo).\n",
        "new_data=np.nan*np.zeros((24*12*(len(np.unique(dataset.index.dayofyear))),1+len(dataset.columns)), dtype=object)\n",
        "# Arreglo con los días sin repetir\n",
        "days=np.unique(np.asarray([str(dataset.index[i]).split(\" \")[0] for i in range(dataset.shape[0])]))\n",
        "\n",
        "# Transforma los minutos integer a string\n",
        "def min_to_str(min):\n",
        "  if min==0: min=\"00\"\n",
        "  elif min==5: min=\"0\"+str(min)\n",
        "  else: min=str(min)\n",
        "  return(min)\n",
        "\n",
        "# Transforma la hora con para que estén las horas 0 hrs-23 hrs con 5 mins de diferencia, y se guarda en new_data\n",
        "for i in range(new_data.shape[0]):\n",
        "  hr=i//12-24*((i//12)//24)\n",
        "  if hr==0: hr=\"00\"\n",
        "  elif 0<hr<10: hr=\"0\"+str(hr)\n",
        "  else: hr=str(hr)\n",
        "  min=5*i-60*((5*i)//60)\n",
        "  day=(i//12)//24\n",
        "  new_data[i,0]=days[day]+\" \"+str(hr)+\":\"+min_to_str(min)+\":00\"\n",
        "\n",
        "verbose,freq=True,12*24*5+12+1 # to see output\n",
        "w_in=0\n",
        "\n",
        "# Se parsean los datos en new_data\n",
        "for i in range(dataset.shape[0]):\n",
        "  ind=dataset.index[i]\n",
        "  min=ind.minute\n",
        "  # Si existen minutos antes, se guarda\n",
        "  if i>0: past_min=dataset.index[i-1].minute\n",
        "  # Si existen minutos despues, se guarda\n",
        "  if i<dataset.shape[0]-1: next_min=dataset.index[i+1].minute\n",
        "  # Si el minuto no es múltiplo de 5 y hay resto, lo modifica de tal manera que no sea menor que el tiempo anterior o mayor que el posterior\n",
        "  if min%5!=0:\n",
        "    if (min+1)%5==0: min=min+1\n",
        "    elif (min-1)%5==0: min=min-1\n",
        "    elif past_min%5==0:\n",
        "      if past_min!=55: min=past_min+5\n",
        "      else: min=0\n",
        "    elif next_min%5==0:\n",
        "      if next_min!=0: min=past_min-5\n",
        "      else: min=55\n",
        "    elif (past_min-1)%5==0:\n",
        "      if (past_min-1)!=55: min=past_min-1+5\n",
        "      else: min=0\n",
        "    else: print(past_min,min,next_min,\"---keep expanding\")\n",
        "  # Se escribe el tiempo como un string en ind\n",
        "  ind=str(ind)[:-11]+min_to_str(min)+str(ind)[-9:]\n",
        "  found=0\n",
        "  # Guarda la información del dataset en new_data, para un tiempo ind\n",
        "  for w in range(w_in,w_in+new_data.shape[0]):\n",
        "    if new_data[w,0][:-2] in ind:\n",
        "      w_in=w\n",
        "      found=1\n",
        "      new_data[w,1:]=dataset.values[i,:]\n",
        "      if verbose and i%freq==0: print(str(dataset.index[i]),\"---->\",new_data[w,0])\n",
        "      break\n",
        "  if found==0:\n",
        "    print(\"Error at \",ind)\n",
        "    break\n",
        "\n",
        "# Se define un dataframe con los datos procesados\n",
        "df=pd.DataFrame(new_data[:,1:].astype(\"float32\"),index=new_data[:,0],columns=dataset.columns)\n",
        "# Se define el tiempo final\n",
        "t2=time.time()\n",
        "print(\"Time of computation (seconds): \", t2-t1)\n",
        "print(\"N° Missing time steps data: \", np.isnan(new_data[:,1].astype(\"float\")).sum())"
      ],
      "execution_count": null,
      "outputs": [
        {
          "output_type": "stream",
          "text": [
            "2016-09-01 00:00:08-10:00 ----> 2016-09-01 00:00:00\n",
            "2016-09-06 07:05:20-10:00 ----> 2016-09-06 07:05:00\n",
            "2016-09-13 02:25:08-10:00 ----> 2016-09-13 02:25:00\n",
            "2016-09-19 03:20:05-10:00 ----> 2016-09-19 03:20:00\n",
            "2016-09-24 06:30:19-10:00 ----> 2016-09-24 06:30:00\n",
            "2016-09-29 11:15:22-10:00 ----> 2016-09-29 11:15:00\n",
            "2016-10-05 14:35:20-10:00 ----> 2016-10-05 14:35:00\n",
            "2016-10-10 18:25:23-10:00 ----> 2016-10-10 18:25:00\n",
            "2016-10-15 21:50:21-10:00 ----> 2016-10-15 21:50:00\n",
            "2016-10-20 23:50:20-10:00 ----> 2016-10-20 23:50:00\n",
            "2016-10-26 01:25:17-10:00 ----> 2016-10-26 01:25:00\n",
            "2016-10-31 02:45:17-10:00 ----> 2016-10-31 02:45:00\n",
            "2016-11-05 04:15:18-10:00 ----> 2016-11-05 04:15:00\n",
            "2016-11-10 05:20:02-10:00 ----> 2016-11-10 05:20:00\n",
            "2016-11-15 06:25:02-10:00 ----> 2016-11-15 06:25:00\n",
            "2016-11-20 07:40:20-10:00 ----> 2016-11-20 07:40:00\n",
            "2016-11-25 09:00:04-10:00 ----> 2016-11-25 09:00:00\n",
            "2016-12-01 14:55:04-10:00 ----> 2016-12-01 14:55:00\n",
            "2016-12-09 06:25:52-10:00 ----> 2016-12-09 06:25:00\n",
            "2016-12-14 07:40:04-10:00 ----> 2016-12-14 07:40:00\n",
            "2016-12-19 09:20:21-10:00 ----> 2016-12-19 09:20:00\n",
            "2016-12-24 10:35:50-10:00 ----> 2016-12-24 10:35:00\n",
            "2016-12-29 11:45:01-10:00 ----> 2016-12-29 11:45:00\n",
            "Time of computation (seconds):  15.778089761734009\n",
            "N° Missing time steps data:  1300\n"
          ],
          "name": "stdout"
        }
      ]
    },
    {
      "cell_type": "markdown",
      "metadata": {
        "id": "O0IWrMTSvpEv"
      },
      "source": [
        "##### III) **Reemplace** TODOS los missing values (NaN) de cada columna del nuevo dataset (df) de la forma que estime conveniente. Para esto debe usar los valores respectivos de cada columna, ya sea en el pasado o futuro. <br><br> _Como ejemplo_: Si es que existen datos perdidos a las 23:15 hrs, puede reemplazar el valor NaN con el promedio entre las 23:10 y 23:20, teniendo cuidado que el valor en la columna a reemplazar p.ej Pressure sea efectivamente el promedio entre la variable Pressure a las 23:10 y 23:20 . Note que el promedio entre un valor númerico y NaN es igual a NaN, por lo que tendrá que encontrar cómo hacer frente a esta situación.  <br><br> **Comente y fundamente su elección.**"
      ]
    },
    {
      "cell_type": "code",
      "metadata": {
        "id": "t8dOthgtwoJK",
        "colab": {
          "base_uri": "https://localhost:8080/"
        },
        "outputId": "90eead37-6f58-4c5a-e621-3a1184929be2"
      },
      "source": [
        "def findIndex(index, increment, nan_array):\n",
        "  while(np.any(nan_array[:] == index)):\n",
        "    index += increment\n",
        "  return index\n",
        "\n",
        "time=pd.to_datetime(df.index)\n",
        "var_names=df.columns.tolist()\n",
        "data=df.copy().values\n",
        "nan_row_loc=np.where((np.isnan((data[:,0]))==True))\n",
        "\n",
        "while(len(nan_row_loc[0]) > 0):\n",
        "  index = nan_row_loc[0][0]\n",
        "  x1 = index - 1\n",
        "  x2 = findIndex(index, +1, nan_row_loc[0])\n",
        "  # Si el primer elemento es nan, entonces será igual al primer elemento que no sea nan a la derecha\n",
        "  if(x1 < 0):\n",
        "    x1 = findIndex(index, +1, nan_row_loc[0])\n",
        "  # Si el último elemento es nan, entonces será igual al primer elemento que no sea nan a la izquierda\n",
        "  if(x2 > np.shape(data)[0]):\n",
        "    x2 = findIndex(index, -1, nan_row_loc[0])\n",
        "  data[index] = (data[x1] + data[x2]) / 2\n",
        "  nan_row_loc=np.where((np.isnan((data[:,0]))==True))\n",
        "\n",
        "# Validamos si tenemos data NaN\n",
        "np.isnan((data)).sum()"
      ],
      "execution_count": null,
      "outputs": [
        {
          "output_type": "execute_result",
          "data": {
            "text/plain": [
              "0"
            ]
          },
          "metadata": {
            "tags": []
          },
          "execution_count": 6
        }
      ]
    },
    {
      "cell_type": "markdown",
      "metadata": {
        "id": "KHPUNGp3ABsX"
      },
      "source": [
        "**Comentarios**\r\n",
        "\r\n",
        "Debido a que los datos están ordenados secuencialmente, se capturó el índice de la primera fila que es nan. Luego, se reviso que los indices contiguos tuvieran datos, en caso de no tener se movía el indice hasta encontrar un dato. Finalmente se calcula el promedio de los datos en 2 los índices definidos y se guardan, se realiza esto hasta que no hayan datos que sean nan.\r\n",
        "\r\n",
        "Se decidió hacer de esta manera porque si se tomaban los datos a cada lado y uno era nan, el dato seguiría siendo nan quedando en un loop infinito. Además, se considera que si los datos nan estan en la primera o última posición del array, se tomará el dato más cercano y no el promedio de dos datos, ya que en uno de los lados no hay más datos."
      ]
    },
    {
      "cell_type": "markdown",
      "metadata": {
        "id": "BjbgXvHERx9k"
      },
      "source": [
        "**Para disminuir los tiempos de entrenamiento reduciremos la resolución temporal de 5-min a 1-hr. Para esto calcularemos el promedio de cada hora.**"
      ]
    },
    {
      "cell_type": "code",
      "metadata": {
        "id": "amme3Vv2R1IY"
      },
      "source": [
        "data_hr=np.nan*np.zeros((int(data.shape[0]/12),data.shape[1]))\n",
        "time_hr=np.nan*np.zeros((int(data.shape[0]/12)), dtype=object)\n",
        "for i in range(data_hr.shape[0]):\n",
        "  data_hr[i,:]=np.mean(data[12*i:12*(i+1),:],axis=0)\n",
        "  time_hr[i]=time[12*i]\n",
        "time_hr=pd.to_datetime(time_hr)"
      ],
      "execution_count": null,
      "outputs": []
    },
    {
      "cell_type": "code",
      "metadata": {
        "colab": {
          "base_uri": "https://localhost:8080/"
        },
        "id": "NIXIJjzvEToP",
        "outputId": "387c7f26-c162-4591-a99a-bf2b3b814245"
      },
      "source": [
        "time_hr"
      ],
      "execution_count": null,
      "outputs": [
        {
          "output_type": "execute_result",
          "data": {
            "text/plain": [
              "DatetimeIndex(['2016-09-01 00:00:00', '2016-09-01 01:00:00',\n",
              "               '2016-09-01 02:00:00', '2016-09-01 03:00:00',\n",
              "               '2016-09-01 04:00:00', '2016-09-01 05:00:00',\n",
              "               '2016-09-01 06:00:00', '2016-09-01 07:00:00',\n",
              "               '2016-09-01 08:00:00', '2016-09-01 09:00:00',\n",
              "               ...\n",
              "               '2016-12-31 14:00:00', '2016-12-31 15:00:00',\n",
              "               '2016-12-31 16:00:00', '2016-12-31 17:00:00',\n",
              "               '2016-12-31 18:00:00', '2016-12-31 19:00:00',\n",
              "               '2016-12-31 20:00:00', '2016-12-31 21:00:00',\n",
              "               '2016-12-31 22:00:00', '2016-12-31 23:00:00'],\n",
              "              dtype='datetime64[ns]', length=2832, freq=None)"
            ]
          },
          "metadata": {
            "tags": []
          },
          "execution_count": 8
        }
      ]
    },
    {
      "cell_type": "markdown",
      "metadata": {
        "id": "sc1nF96dHMrE"
      },
      "source": [
        "##### IV) **Separe** el dataset en conjuntos de entrenamiento, validación y test, para esto considere un 70% de los datos para entrenamiento, un 15% para validación y un 15% para test. Como se está trabajando con series de tiempo, proceda a crear los conjuntos de manera sucesiva. Guarde las fechas asociadas a cada dato puesto se utilizarán más adelante. "
      ]
    },
    {
      "cell_type": "code",
      "metadata": {
        "id": "aT_5ck9DHQpa",
        "colab": {
          "base_uri": "https://localhost:8080/"
        },
        "outputId": "e16f927b-39ef-40cd-bc79-64193b003cb2"
      },
      "source": [
        "data_tr, time_tr = data_hr[:int(data_hr.shape[0]*0.7)],time_hr[:int(data_hr.shape[0]*0.7)]\n",
        "data_val, time_val = data_hr[int(data_hr.shape[0]*0.7):int(data_hr.shape[0]*0.85)],time_hr[int(data_hr.shape[0]*0.7):int(data_hr.shape[0]*0.85)]\n",
        "data_tst, time_tst = data_hr[int(data_hr.shape[0]*0.85):],time_hr[int(data_hr.shape[0]*0.85):]\n",
        "print(data_tr.shape[0], data_val.shape[0], data_tst.shape[0])"
      ],
      "execution_count": null,
      "outputs": [
        {
          "output_type": "stream",
          "text": [
            "1982 425 425\n"
          ],
          "name": "stdout"
        }
      ]
    },
    {
      "cell_type": "markdown",
      "metadata": {
        "id": "1SM32Vh-JN3i"
      },
      "source": [
        "**Verificación de los tamaños de conjuntos**"
      ]
    },
    {
      "cell_type": "code",
      "metadata": {
        "colab": {
          "base_uri": "https://localhost:8080/"
        },
        "id": "6bT34oG5JM3z",
        "outputId": "7c95378e-27cc-409f-81bf-47b1a02b1435"
      },
      "source": [
        "total = data_hr.shape[0]\r\n",
        "data_tr_size, data_val_size, data_test_size = (100 / total)*data_tr.shape[0], (100 / total)*data_val.shape[0], (100 / total)*data_tst.shape[0]\r\n",
        "print('Para x (size=%d):'%total)\r\n",
        "print('\\t- Train Set > %f%%\\n\\t- Validation Set > %f%%\\n\\t- Test Set > %f%%\\n'%(data_tr_size,data_val_size,data_test_size))"
      ],
      "execution_count": null,
      "outputs": [
        {
          "output_type": "stream",
          "text": [
            "Para x (size=2832):\n",
            "\t- Train Set > 69.985876%\n",
            "\t- Validation Set > 15.007062%\n",
            "\t- Test Set > 15.007062%\n",
            "\n"
          ],
          "name": "stdout"
        }
      ]
    },
    {
      "cell_type": "markdown",
      "metadata": {
        "id": "WaAufyUjuR0B"
      },
      "source": [
        "##### V) **Comente y visualice** los valores promedios y desviación estándar de cada atributo del dataset de entrenamiento según la hora del día y mes del año. Apóyese en el siguiente código si lo desea."
      ]
    },
    {
      "cell_type": "code",
      "metadata": {
        "colab": {
          "base_uri": "https://localhost:8080/",
          "height": 614
        },
        "id": "EMYKohsM0VgP",
        "outputId": "e331a4d8-7d4c-45c9-d69c-78d4b70978a0"
      },
      "source": [
        "import matplotlib.pyplot as plt\n",
        "cols=sns.color_palette(\"cubehelix\", len(var_names))\n",
        "for J in range(len(var_names)):\n",
        "  var_name=var_names[J]\n",
        "  mean_per_hr=np.nan*np.zeros((24))\n",
        "  std_per_hr=np.nan*np.zeros((24))\n",
        "  for hr in range(24):\n",
        "    mean_per_hr[hr]=np.mean(data_tr[time_tr.hour==hr][:,J])\n",
        "    std_per_hr[hr]=np.std(data_tr[time_tr.hour==hr][:,J])\n",
        "  plt.rcParams[\"figure.figsize\"]=[20,2]\n",
        "  plt.suptitle(var_name,size=18,y=1.2)\n",
        "  plt.subplot(1,2,1),plt.title(\"Mean by hour\",size=16)\n",
        "  plt.plot(mean_per_hr,color=cols[J]),plt.grid()\n",
        "  plt.subplot(1,2,2),plt.title(\"Std. deviation by hour\",size=16)\n",
        "  plt.plot(std_per_hr,color=cols[J]),plt.grid()\n",
        "  plt.tight_layout()\n",
        "  plt.show()"
      ],
      "execution_count": null,
      "outputs": [
        {
          "output_type": "display_data",
          "data": {
            "image/png": "[encoded data removed]",
            "text/plain": [
              "<Figure size 1440x144 with 2 Axes>"
            ]
          },
          "metadata": {
            "tags": [],
            "needs_background": "light"
          }
        },
        {
          "output_type": "display_data",
          "data": {
            "image/png": "[encoded data removed]",
            "text/plain": [
              "<Figure size 1440x144 with 2 Axes>"
            ]
          },
          "metadata": {
            "tags": [],
            "needs_background": "light"
          }
        },
        {
          "output_type": "display_data",
          "data": {
            "image/png": "[encoded data removed]",
            "text/plain": [
              "<Figure size 1440x144 with 2 Axes>"
            ]
          },
          "metadata": {
            "tags": [],
            "needs_background": "light"
          }
        },
        {
          "output_type": "display_data",
          "data": {
            "image/png": "[encoded data removed]",
            "text/plain": [
              "<Figure size 1440x144 with 2 Axes>"
            ]
          },
          "metadata": {
            "tags": [],
            "needs_background": "light"
          }
        },
        {
          "output_type": "display_data",
          "data": {
            "image/png": "[encoded data removed]",
            "text/plain": [
              "<Figure size 1440x144 with 2 Axes>"
            ]
          },
          "metadata": {
            "tags": [],
            "needs_background": "light"
          }
        },
        {
          "output_type": "display_data",
          "data": {
            "image/png": "[encoded data removed]",
            "text/plain": [
              "<Figure size 1440x144 with 2 Axes>"
            ]
          },
          "metadata": {
            "tags": [],
            "needs_background": "light"
          }
        }
      ]
    },
    {
      "cell_type": "markdown",
      "metadata": {
        "id": "rqAEVw_7NZiC"
      },
      "source": [
        "**Comentarios**\r\n",
        "\r\n",
        "* Radiación: Se puede ver que este atributo está normalizado, donde el valor central es el 11, que indica las 12am. Si bien la desviación es mas irregular, también se observa una tendencia a la normalización.\r\n",
        "* Temperatura: La temperatura es un atributo relativamente normalizado, ya que sigue la curva de campana pero tiene mayor dispersión que la anterior debido a su desviación estándar.\r\n",
        "* Presión: Se puede observar como este atributo tiene un comportamiento más bien cíclico.\r\n",
        "* Humedad: En cuanto a la humedad vemos una distribución bimodal.\r\n",
        "* Dirección del viento: En cuanto a este atributo se observa una distribución en forma de U.\r\n",
        "* Speed: Se observa una distribución multimodal.\r\n",
        "\r\n",
        "\r\n"
      ]
    },
    {
      "cell_type": "markdown",
      "metadata": {
        "id": "4IOqnBnLGz9A"
      },
      "source": [
        "##### VI) **Estandarice** los conjuntos de entrenamiento, validación y test. Tienendo en mente que buscaremos predecir la radiación para las 24 horas futuras definiremos las variables de entrada y salida, realizando una transformación conveniente utilizando la función split_sequence entregada."
      ]
    },
    {
      "cell_type": "code",
      "metadata": {
        "id": "gkS2ySMKLi1z"
      },
      "source": [
        "from sklearn.preprocessing import StandardScaler\n",
        "scaler = StandardScaler()\n",
        "scaler.fit(data_tr)\n",
        "xy_tr_sc = scaler.transform(data_tr)\n",
        "xy_val_sc = scaler.transform(data_val)\n",
        "xy_tst_sc = scaler.transform(data_tst)"
      ],
      "execution_count": null,
      "outputs": []
    },
    {
      "cell_type": "code",
      "metadata": {
        "id": "a0v1K6-GMq_c"
      },
      "source": [
        "def split_sequence(sequence, n_steps_in, n_steps_out,time_seq):\n",
        "    X, y , seq_t= list(), list(), list()\n",
        "    for i in range(len(sequence)):\n",
        "        # find the end of this pattern\n",
        "        end_ix = i + n_steps_in\n",
        "        out_end_ix = end_ix + n_steps_out\n",
        "        # check if we are beyond the sequence\n",
        "        if out_end_ix > len(sequence):\n",
        "            break\n",
        "        # gather input and output parts of the pattern\n",
        "        seq_x, seq_y = sequence[i:end_ix], sequence[end_ix:out_end_ix,0]\n",
        "        seq_t.append(time_seq[end_ix])\n",
        "        X.append(seq_x)\n",
        "        y.append(seq_y)\n",
        "    return np.array(X), np.array(y) , np.asarray(seq_t)"
      ],
      "execution_count": null,
      "outputs": []
    },
    {
      "cell_type": "code",
      "metadata": {
        "id": "t8ORs5hYM3n2"
      },
      "source": [
        "len_inp=24\n",
        "len_out=24\n",
        "x_tr,y_tr,t_tr=split_sequence(xy_tr_sc,len_inp,len_out,time_tr)\n",
        "x_val,y_val,t_val=split_sequence(xy_val_sc,len_inp,len_out,time_tr)\n",
        "x_tst,y_tst,t_tst=split_sequence(xy_tst_sc,len_inp,len_out,time_tr)"
      ],
      "execution_count": null,
      "outputs": []
    },
    {
      "cell_type": "markdown",
      "metadata": {
        "id": "SRtaViMsXWpa"
      },
      "source": [
        "**Explique** a qué corresponde cada dimensión de las variables de entrada y salida."
      ]
    },
    {
      "cell_type": "code",
      "metadata": {
        "id": "o8BxEJebW4O0",
        "colab": {
          "base_uri": "https://localhost:8080/"
        },
        "outputId": "a5d438e9-bb70-48a3-c50d-703d7da4e910"
      },
      "source": [
        "x_tr.shape,x_val.shape,x_tst.shape,y_tr.shape,y_val.shape,y_tst.shape"
      ],
      "execution_count": null,
      "outputs": [
        {
          "output_type": "execute_result",
          "data": {
            "text/plain": [
              "((1935, 24, 6), (378, 24, 6), (378, 24, 6), (1935, 24), (378, 24), (378, 24))"
            ]
          },
          "metadata": {
            "tags": []
          },
          "execution_count": 15
        }
      ]
    },
    {
      "cell_type": "markdown",
      "metadata": {
        "id": "2UZDubJSXVS5"
      },
      "source": [
        "**Dimensiones**\r\n",
        "\r\n",
        "Datos de entrada: \r\n",
        "\r\n",
        "* x_tr: Los datos de entrenamiento cuentan con 1935 días, 24 mediciones por cada hora de un día, 6 valores por cada atributo.\r\n",
        "* x_val: Los datos de validación cuentan con 378 días, 24 mediciones por cada hora de un día, 6 valores por cada atributo.\r\n",
        "* x_tst: Los datos de test cuentan con 378 días, 24 mediciones por cada hora de un día, 6 valores por cada atributo.\r\n",
        "\r\n",
        "Datos de salida:\r\n",
        "\r\n",
        "* y_tr: Los datos de entrenamiento cuentan con 1935 días, 24 mediciones por cada hora de un día, 6 valores por cada atributo.\r\n",
        "* y_val: Los datos de validación cuentan con 378 días, 24 mediciones por cada hora de un día, 6 valores por cada atributo.\r\n",
        "* y_tst: Los datos de test cuentan con 378 días, 24 mediciones por cada hora de un día, 6 valores por cada atributo.\r\n",
        "\r\n",
        "Cabe destacar que se redujeron algunos datos debido a que no se encontraban los datos exactos para separarlos en datos de entrada y salida, para esto se requerían 48 datos (24 datos pasados y 24 datos futuros) pero solo habían 47, por lo que fueron recortados."
      ]
    },
    {
      "cell_type": "markdown",
      "metadata": {
        "id": "DSItDyEkOZDK"
      },
      "source": [
        "## 1.b) Primera  red recurrente.\n",
        "Ahora entrenaremos una primera red recurrente LSTM. **Explique** la particularidad de estas redes y **por qué** podría comportarse bien para este tipo de problemas. <br> <br> Entrenaremos dos redes recurrentes similares, la primera tan solo utilizará la variable Radiation como entrada para predecir Radiation, caso que llamaremos **univariante**, mientras la segunda utilizará las variables [Radiation, Temperature, Pressure, Humidity, WindDirection(Degrees), Speed] como entrada para predecir Radiation, caso que llamaremos **multivariante**. <br> <br> **Recupere** las funciones utilizadas en la tarea anterior para graficar los errores de entrenamiento, validación y test, y así comparar el rendimiento de ambas redes RNN gráficamente. **Comente**"
      ]
    },
    {
      "cell_type": "code",
      "metadata": {
        "id": "Zqe0iFhkOiQ6",
        "colab": {
          "base_uri": "https://localhost:8080/"
        },
        "outputId": "910b7400-3fad-4d89-fbe2-197bc581d428"
      },
      "source": [
        "import tensorflow as tf\n",
        "from tensorflow.python.keras import models\n",
        "from tensorflow.python.keras import layers\n",
        "from tensorflow.python.keras import activations\n",
        "from tensorflow.python.keras.engine import input_layer\n",
        "\n",
        "input_lstm= input_layer.Input(shape=(x_tr.shape[1],1))\n",
        "rnn=layers.LSTM(units=56,return_sequences=False)(input_lstm)\n",
        "dens=layers.Dense(len_out, activation='sigmoid')(rnn)\n",
        "model_1=models.Model(inputs=input_lstm, outputs=dens)\n",
        "model_1.compile(loss='mse', optimizer='adam')\n",
        "\n",
        "model_1.summary()\n",
        "history_1 = model_1.fit(x_tr[:,:,0:1],y_tr, validation_data=(x_val[:,:,0:1],y_val), epochs=10, batch_size=16,verbose=False)\n",
        "\n",
        "input_lstm= input_layer.Input(shape=(x_tr.shape[1:]))\n",
        "rnn=layers.LSTM(units=56,return_sequences=False)(input_lstm)\n",
        "dens=layers.Dense(len_out, activation='sigmoid')(rnn)\n",
        "model_2=models.Model(inputs=input_lstm, outputs=dens)\n",
        "model_2.compile(loss='mse', optimizer='adam')\n",
        "\n",
        "model_2.summary()\n",
        "history_2 = model_2.fit(x_tr,y_tr, validation_data=(x_val,y_val), epochs=10, batch_size=16,verbose=False)\n",
        "\n",
        "y_pred_1=model_1(x_tst[:,:,0:1])\n",
        "tst_loss_1=tf.math.reduce_mean(tf.keras.losses.MSE(y_tst, y_pred_1)).numpy()\n",
        "y_pred_2=model_2(x_tst)\n",
        "tst_loss_2=tf.math.reduce_mean(tf.keras.losses.MSE(y_tst, y_pred_2)).numpy()"
      ],
      "execution_count": null,
      "outputs": [
        {
          "output_type": "stream",
          "text": [
            "Model: \"model\"\n",
            "_________________________________________________________________\n",
            "Layer (type)                 Output Shape              Param #   \n",
            "=================================================================\n",
            "input_1 (InputLayer)         [(None, 24, 1)]           0         \n",
            "_________________________________________________________________\n",
            "lstm (LSTM)                  (None, 56)                12992     \n",
            "_________________________________________________________________\n",
            "dense (Dense)                (None, 24)                1368      \n",
            "=================================================================\n",
            "Total params: 14,360\n",
            "Trainable params: 14,360\n",
            "Non-trainable params: 0\n",
            "_________________________________________________________________\n",
            "Model: \"model_1\"\n",
            "_________________________________________________________________\n",
            "Layer (type)                 Output Shape              Param #   \n",
            "=================================================================\n",
            "input_2 (InputLayer)         [(None, 24, 6)]           0         \n",
            "_________________________________________________________________\n",
            "lstm_1 (LSTM)                (None, 56)                14112     \n",
            "_________________________________________________________________\n",
            "dense_1 (Dense)              (None, 24)                1368      \n",
            "=================================================================\n",
            "Total params: 15,480\n",
            "Trainable params: 15,480\n",
            "Non-trainable params: 0\n",
            "_________________________________________________________________\n"
          ],
          "name": "stdout"
        }
      ]
    },
    {
      "cell_type": "code",
      "metadata": {
        "colab": {
          "base_uri": "https://localhost:8080/",
          "height": 281
        },
        "id": "1F6SNP7DYgCY",
        "outputId": "e841c062-23a9-43f0-92d8-7157cdc6f6e0"
      },
      "source": [
        "plt.rcParams[\"figure.figsize\"]=[20,4]\r\n",
        "\r\n",
        "# First model\r\n",
        "plt.subplot(1,2,1)\r\n",
        "plt.title(\"Modelo Univariado\")\r\n",
        "plt.plot(history_1.history[\"loss\"],\"b.\",label=\"Train_loss\")\r\n",
        "plt.plot(history_1.history[\"val_loss\"],\"g.\",label=\"Val_loss\")\r\n",
        "plt.axhline(y=tst_loss_1,color=\"k\",linestyle=\"-.\",label=\"Tst_loss\")\r\n",
        "plt.xlabel(\"Epochs\"),plt.ylabel(\"MSE Error\")\r\n",
        "plt.legend(),plt.grid()\r\n",
        "\r\n",
        "# Second model\r\n",
        "plt.subplot(1,2,2)\r\n",
        "plt.title(\"Modelo Multivariado\")\r\n",
        "plt.plot(history_2.history[\"loss\"],\"b.\",label=\"Train_loss\")\r\n",
        "plt.plot(history_2.history[\"val_loss\"],\"g.\",label=\"Val_loss\")\r\n",
        "plt.axhline(y=tst_loss_2,color=\"k\",linestyle=\"-.\",label=\"Tst_loss\")\r\n",
        "plt.xlabel(\"Epochs\"),plt.ylabel(\"MSE Error\")\r\n",
        "plt.legend(),plt.grid()\r\n",
        "\r\n",
        "plt.show()"
      ],
      "execution_count": null,
      "outputs": [
        {
          "output_type": "display_data",
          "data": {
            "image/png": "[encoded data removed]",
            "text/plain": [
              "<Figure size 1440x288 with 2 Axes>"
            ]
          },
          "metadata": {
            "tags": [],
            "needs_background": "light"
          }
        }
      ]
    },
    {
      "cell_type": "markdown",
      "metadata": {
        "id": "wDlQkqf6aih0"
      },
      "source": [
        "**Red Recurrente LSTM** \r\n",
        "\r\n",
        "Una red LSTM es una red recurrente con objetivo es decidir cuando recordar u olvidar la información. Para realizar esto cuenta con puertas que determinan la significancia de las entradas, siendo esta la particularidad de la red. Las puertas son:\r\n",
        "\r\n",
        "* Input Gate: Puede admitir los inputs para recordar más instancias.\r\n",
        "* Forget Gate: Controla un loop dentro de la LSTM que permite no admitir el input.\r\n",
        "* Output Gate: Puede \"apagar\" la salida para que no haya ninguna.\r\n",
        "\r\n",
        "Esta red podría comportarse bien para este tipo de problemas porque evita el gradiente descendente y los problemas que puede implicar ( explosión o desvanecimiento del gradiente), especialmente en las redes recurrentes ya que por regla de la cadena, suelen caer más en estos problemas.\r\n",
        "\r\n",
        "**Comentarios**\r\n",
        "\r\n",
        "Cuando se considera una sola variable, el modelo tiene menor error pero el error de validación parece ir en aumento, esto puede indicar que hay sobreajuste. Por otro lado, cuando se considera, todas las variables, se ve en el gráfico que el error tiene una tendencia a disminuir. Por lo tanto, se cree que es más completo considerar todas las variables.\r\n"
      ]
    },
    {
      "cell_type": "markdown",
      "metadata": {
        "id": "tT3visPfheBi"
      },
      "source": [
        "## 1.c) Exploración de profundidad y GRU."
      ]
    },
    {
      "cell_type": "markdown",
      "metadata": {
        "id": "sxo5rLZwY_70"
      },
      "source": [
        "##### I) Exploraremos aumentar la profundidad de la red neuronal. El modelo LSTM original se compone de una sola capa LSTM oculta seguida de una capa de salida estándar. Podríamos decir que nuestra red neuronal posee dos profundidades distintas. La Stacked LSTM es una extensión del modelo LSTM original, la cual tiene múltiples capas LSTM ocultas donde cada capa contiene múltiples celdas de memoria. A la vez, del mismo modo que en la Tarea 1, es posible aumentar la profundidad de la red densa de salida. \n",
        "\n",
        "Proceda a probar distintas combinaciones de profundidades de capas LSTM y de capas Densas (contando la capa de salida), para el caso univariado y multivariado. Para mantener un tiempo de ejecución produnte, considere una profunidad LSTM máxima de 2, y una profundidad densa máxima de 2. **Grafique y compare** los errores de entrenamiento, validación y test para los distintos casos.  **Comente**.\n",
        "\n",
        "El siguiente código muestra el caso multivariado con profundidades máximas LSTM y Densas. Utilice el número de celdas de memoria y número de neuronas recomendado en el código para las distintas profundidades, al igual que el número de epochs.\n",
        "\n",
        "**Pregunta:** ¿Por qué cuando una capa LSTM precede otra capa LSTM es necesario utilizar return_sequences=True? ¿Es necesario/recomendado utilizar return_sequences=False cuando una capa LSTM precede a una capa Densa?"
      ]
    },
    {
      "cell_type": "code",
      "metadata": {
        "id": "ePwJuiQUdEzP",
        "colab": {
          "base_uri": "https://localhost:8080/"
        },
        "outputId": "bb1e32dd-2c74-4525-e89f-f1d7b051c541"
      },
      "source": [
        "# Multivariado\n",
        "\n",
        "input_lstm= input_layer.Input(shape=(x_tr.shape[1:]))\n",
        "rnn=layers.LSTM(units=56,return_sequences=True)(input_lstm) # 1° lstm\n",
        "rnn=layers.LSTM(units=56,return_sequences=False)(rnn) # 2° lstm\n",
        "dens=layers.Dense(32, activation='relu')(rnn) # 1° densa\n",
        "dens=layers.Dense(len_out, activation='sigmoid')(dens) # 2° densa\n",
        "model=models.Model(inputs=input_lstm, outputs=dens)\n",
        "model.compile(loss='mse', optimizer='adam')\n",
        "model.summary()\n",
        "history1 = model.fit(x_tr,y_tr, validation_data=(x_val,y_val), epochs=10, batch_size=16,verbose=False)\n",
        "y_pred=model(x_tst)\n",
        "tst_loss1=tf.math.reduce_mean(tf.keras.losses.MSE(y_tst, y_pred)).numpy()\n",
        "\n",
        "input_lstm= input_layer.Input(shape=(x_tr.shape[1:]))\n",
        "rnn=layers.LSTM(units=56,return_sequences=False)(input_lstm) # 1° lstm\n",
        "dens=layers.Dense(56, activation='relu')(rnn) # 1° densa\n",
        "dens=layers.Dense(len_out, activation='sigmoid')(dens) # 2° densa\n",
        "model=models.Model(inputs=input_lstm, outputs=dens)\n",
        "model.compile(loss='mse', optimizer='adam')\n",
        "model.summary()\n",
        "history2 = model.fit(x_tr,y_tr, validation_data=(x_val,y_val), epochs=10, batch_size=16,verbose=False)\n",
        "y_pred=model(x_tst)\n",
        "tst_loss2=tf.math.reduce_mean(tf.keras.losses.MSE(y_tst, y_pred)).numpy()\n",
        "\n",
        "input_lstm= input_layer.Input(shape=(x_tr.shape[1:]))\n",
        "rnn=layers.LSTM(units=56,return_sequences=True)(input_lstm) # 1° lstm\n",
        "rnn=layers.LSTM(units=32,return_sequences=False)(rnn) # 2° lstm\n",
        "dens=layers.Dense(len_out, activation='sigmoid')(rnn) # 2° densa\n",
        "model=models.Model(inputs=input_lstm, outputs=dens)\n",
        "model.compile(loss='mse', optimizer='adam')\n",
        "model.summary()\n",
        "history3 = model.fit(x_tr,y_tr, validation_data=(x_val,y_val), epochs=10, batch_size=16,verbose=False)\n",
        "y_pred=model(x_tst)\n",
        "tst_loss3=tf.math.reduce_mean(tf.keras.losses.MSE(y_tst, y_pred)).numpy()"
      ],
      "execution_count": null,
      "outputs": [
        {
          "output_type": "stream",
          "text": [
            "Model: \"model_2\"\n",
            "_________________________________________________________________\n",
            "Layer (type)                 Output Shape              Param #   \n",
            "=================================================================\n",
            "input_3 (InputLayer)         [(None, 24, 6)]           0         \n",
            "_________________________________________________________________\n",
            "lstm_2 (LSTM)                (None, 24, 56)            14112     \n",
            "_________________________________________________________________\n",
            "lstm_3 (LSTM)                (None, 56)                25312     \n",
            "_________________________________________________________________\n",
            "dense_2 (Dense)              (None, 32)                1824      \n",
            "_________________________________________________________________\n",
            "dense_3 (Dense)              (None, 24)                792       \n",
            "=================================================================\n",
            "Total params: 42,040\n",
            "Trainable params: 42,040\n",
            "Non-trainable params: 0\n",
            "_________________________________________________________________\n",
            "Model: \"model_3\"\n",
            "_________________________________________________________________\n",
            "Layer (type)                 Output Shape              Param #   \n",
            "=================================================================\n",
            "input_4 (InputLayer)         [(None, 24, 6)]           0         \n",
            "_________________________________________________________________\n",
            "lstm_4 (LSTM)                (None, 56)                14112     \n",
            "_________________________________________________________________\n",
            "dense_4 (Dense)              (None, 56)                3192      \n",
            "_________________________________________________________________\n",
            "dense_5 (Dense)              (None, 24)                1368      \n",
            "=================================================================\n",
            "Total params: 18,672\n",
            "Trainable params: 18,672\n",
            "Non-trainable params: 0\n",
            "_________________________________________________________________\n",
            "Model: \"model_4\"\n",
            "_________________________________________________________________\n",
            "Layer (type)                 Output Shape              Param #   \n",
            "=================================================================\n",
            "input_5 (InputLayer)         [(None, 24, 6)]           0         \n",
            "_________________________________________________________________\n",
            "lstm_5 (LSTM)                (None, 24, 56)            14112     \n",
            "_________________________________________________________________\n",
            "lstm_6 (LSTM)                (None, 32)                11392     \n",
            "_________________________________________________________________\n",
            "dense_6 (Dense)              (None, 24)                792       \n",
            "=================================================================\n",
            "Total params: 26,296\n",
            "Trainable params: 26,296\n",
            "Non-trainable params: 0\n",
            "_________________________________________________________________\n"
          ],
          "name": "stdout"
        }
      ]
    },
    {
      "cell_type": "code",
      "metadata": {
        "colab": {
          "base_uri": "https://localhost:8080/",
          "height": 282
        },
        "id": "4E0Ava7XjW-X",
        "outputId": "6b93c1b0-ea5f-460a-87e7-76c7337b4898"
      },
      "source": [
        "plt.rcParams[\"figure.figsize\"]=[20,4]\r\n",
        "\r\n",
        "# 2 Capas LSTM y 2 Capas Densas\r\n",
        "plt.subplot(1,3,1)\r\n",
        "plt.title(\"2 LSTM, 2 Dense\")\r\n",
        "plt.plot(history1.history[\"loss\"],\"b.\",label=\"Train_loss\")\r\n",
        "plt.plot(history1.history[\"val_loss\"],\"g.\",label=\"Val_loss\")\r\n",
        "plt.axhline(y=tst_loss1,color=\"k\",linestyle=\"-.\",label=\"Tst_loss\")\r\n",
        "plt.xlabel(\"Epochs\"),plt.ylabel(\"MSE Error\")\r\n",
        "plt.legend(),plt.grid()\r\n",
        "\r\n",
        "# 1 Capas LSTM y 2 Capas Densas\r\n",
        "plt.subplot(1,3,2)\r\n",
        "plt.title(\"1 LSTM, 2 Dense\")\r\n",
        "plt.plot(history2.history[\"loss\"],\"b.\",label=\"Train_loss\")\r\n",
        "plt.plot(history2.history[\"val_loss\"],\"g.\",label=\"Val_loss\")\r\n",
        "plt.axhline(y=tst_loss2,color=\"k\",linestyle=\"-.\",label=\"Tst_loss\")\r\n",
        "plt.xlabel(\"Epochs\"),plt.ylabel(\"MSE Error\")\r\n",
        "plt.legend(),plt.grid()\r\n",
        "\r\n",
        "# 2 Capas LSTM y 1 Capas Densas\r\n",
        "plt.subplot(1,3,3)\r\n",
        "plt.title(\"2 LSTM, 1 Dense\")\r\n",
        "plt.plot(history3.history[\"loss\"],\"b.\",label=\"Train_loss\")\r\n",
        "plt.plot(history3.history[\"val_loss\"],\"g.\",label=\"Val_loss\")\r\n",
        "plt.axhline(y=tst_loss3,color=\"k\",linestyle=\"-.\",label=\"Tst_loss\")\r\n",
        "plt.xlabel(\"Epochs\"),plt.ylabel(\"MSE Error\")\r\n",
        "plt.legend(),plt.grid()\r\n",
        "\r\n",
        "\r\n",
        "plt.show()"
      ],
      "execution_count": null,
      "outputs": [
        {
          "output_type": "display_data",
          "data": {
            "image/png": "[encoded data removed]",
            "text/plain": [
              "<Figure size 1440x288 with 3 Axes>"
            ]
          },
          "metadata": {
            "tags": [],
            "needs_background": "light"
          }
        }
      ]
    },
    {
      "cell_type": "code",
      "metadata": {
        "colab": {
          "base_uri": "https://localhost:8080/"
        },
        "id": "rD_kW3wpe6AH",
        "outputId": "30fabb3b-05c5-4ab3-8184-8a0b5039711f"
      },
      "source": [
        "# Univariado\r\n",
        "\r\n",
        "input_lstm= input_layer.Input(shape=(x_tr.shape[1],1))\r\n",
        "rnn=layers.LSTM(units=56,return_sequences=True)(input_lstm) # 1° lstm\r\n",
        "rnn=layers.LSTM(units=56,return_sequences=False)(rnn) # 2° lstm\r\n",
        "dens=layers.Dense(32, activation='relu')(rnn) # 1° densa\r\n",
        "dens=layers.Dense(len_out, activation='sigmoid')(dens) # 2° densa\r\n",
        "model=models.Model(inputs=input_lstm, outputs=dens)\r\n",
        "model.compile(loss='mse', optimizer='adam')\r\n",
        "model.summary()\r\n",
        "history1 = model.fit(x_tr[:,:,0:1],y_tr, validation_data=(x_val[:,:,0:1],y_val), epochs=10, batch_size=16,verbose=False)\r\n",
        "y_pred=model(x_tst[:,:,0:1])\r\n",
        "tst_loss1=tf.math.reduce_mean(tf.keras.losses.MSE(y_tst, y_pred)).numpy()\r\n",
        "\r\n",
        "input_lstm= input_layer.Input(shape=(x_tr.shape[1],1))\r\n",
        "rnn=layers.LSTM(units=56,return_sequences=False)(input_lstm) # 1° lstm\r\n",
        "dens=layers.Dense(56, activation='relu')(rnn) # 1° densa\r\n",
        "dens=layers.Dense(len_out, activation='sigmoid')(dens) # 2° densa\r\n",
        "model=models.Model(inputs=input_lstm, outputs=dens)\r\n",
        "model.compile(loss='mse', optimizer='adam')\r\n",
        "model.summary()\r\n",
        "history2 = model.fit(x_tr[:,:,0:1],y_tr, validation_data=(x_val[:,:,0:1],y_val), epochs=10, batch_size=16,verbose=False)\r\n",
        "y_pred=model(x_tst[:,:,0:1])\r\n",
        "tst_loss2=tf.math.reduce_mean(tf.keras.losses.MSE(y_tst, y_pred)).numpy()\r\n",
        "\r\n",
        "input_lstm= input_layer.Input(shape=(x_tr.shape[1],1))\r\n",
        "rnn=layers.LSTM(units=56,return_sequences=True)(input_lstm) # 1° lstm\r\n",
        "rnn=layers.LSTM(units=32,return_sequences=False)(rnn) # 2° lstm\r\n",
        "dens=layers.Dense(len_out, activation='sigmoid')(rnn) # 2° densa\r\n",
        "model=models.Model(inputs=input_lstm, outputs=dens)\r\n",
        "model.compile(loss='mse', optimizer='adam')\r\n",
        "model.summary()\r\n",
        "history3 = model.fit(x_tr[:,:,0:1],y_tr, validation_data=(x_val[:,:,0:1],y_val), epochs=10, batch_size=16,verbose=False)\r\n",
        "y_pred=model(x_tst[:,:,0:1])\r\n",
        "tst_loss3=tf.math.reduce_mean(tf.keras.losses.MSE(y_tst, y_pred)).numpy()"
      ],
      "execution_count": null,
      "outputs": [
        {
          "output_type": "stream",
          "text": [
            "Model: \"model_5\"\n",
            "_________________________________________________________________\n",
            "Layer (type)                 Output Shape              Param #   \n",
            "=================================================================\n",
            "input_6 (InputLayer)         [(None, 24, 1)]           0         \n",
            "_________________________________________________________________\n",
            "lstm_7 (LSTM)                (None, 24, 56)            12992     \n",
            "_________________________________________________________________\n",
            "lstm_8 (LSTM)                (None, 56)                25312     \n",
            "_________________________________________________________________\n",
            "dense_7 (Dense)              (None, 32)                1824      \n",
            "_________________________________________________________________\n",
            "dense_8 (Dense)              (None, 24)                792       \n",
            "=================================================================\n",
            "Total params: 40,920\n",
            "Trainable params: 40,920\n",
            "Non-trainable params: 0\n",
            "_________________________________________________________________\n",
            "Model: \"model_6\"\n",
            "_________________________________________________________________\n",
            "Layer (type)                 Output Shape              Param #   \n",
            "=================================================================\n",
            "input_7 (InputLayer)         [(None, 24, 1)]           0         \n",
            "_________________________________________________________________\n",
            "lstm_9 (LSTM)                (None, 56)                12992     \n",
            "_________________________________________________________________\n",
            "dense_9 (Dense)              (None, 56)                3192      \n",
            "_________________________________________________________________\n",
            "dense_10 (Dense)             (None, 24)                1368      \n",
            "=================================================================\n",
            "Total params: 17,552\n",
            "Trainable params: 17,552\n",
            "Non-trainable params: 0\n",
            "_________________________________________________________________\n",
            "Model: \"model_7\"\n",
            "_________________________________________________________________\n",
            "Layer (type)                 Output Shape              Param #   \n",
            "=================================================================\n",
            "input_8 (InputLayer)         [(None, 24, 1)]           0         \n",
            "_________________________________________________________________\n",
            "lstm_10 (LSTM)               (None, 24, 56)            12992     \n",
            "_________________________________________________________________\n",
            "lstm_11 (LSTM)               (None, 32)                11392     \n",
            "_________________________________________________________________\n",
            "dense_11 (Dense)             (None, 24)                792       \n",
            "=================================================================\n",
            "Total params: 25,176\n",
            "Trainable params: 25,176\n",
            "Non-trainable params: 0\n",
            "_________________________________________________________________\n"
          ],
          "name": "stdout"
        }
      ]
    },
    {
      "cell_type": "code",
      "metadata": {
        "colab": {
          "base_uri": "https://localhost:8080/",
          "height": 282
        },
        "id": "xgSUs-amgEQe",
        "outputId": "e4942019-e1f0-47ea-dc94-82ce05ae03d0"
      },
      "source": [
        "plt.rcParams[\"figure.figsize\"]=[20,4]\r\n",
        "\r\n",
        "# 2 Capas LSTM y 2 Capas Densas\r\n",
        "plt.subplot(1,3,1)\r\n",
        "plt.title(\"2 LSTM, 2 Dense\")\r\n",
        "plt.plot(history1.history[\"loss\"],\"b.\",label=\"Train_loss\")\r\n",
        "plt.plot(history1.history[\"val_loss\"],\"g.\",label=\"Val_loss\")\r\n",
        "plt.axhline(y=tst_loss1,color=\"k\",linestyle=\"-.\",label=\"Tst_loss\")\r\n",
        "plt.xlabel(\"Epochs\"),plt.ylabel(\"MSE Error\")\r\n",
        "plt.legend(),plt.grid()\r\n",
        "\r\n",
        "# 1 Capas LSTM y 2 Capas Densas\r\n",
        "plt.subplot(1,3,2)\r\n",
        "plt.title(\"1 LSTM, 2 Dense\")\r\n",
        "plt.plot(history2.history[\"loss\"],\"b.\",label=\"Train_loss\")\r\n",
        "plt.plot(history2.history[\"val_loss\"],\"g.\",label=\"Val_loss\")\r\n",
        "plt.axhline(y=tst_loss2,color=\"k\",linestyle=\"-.\",label=\"Tst_loss\")\r\n",
        "plt.xlabel(\"Epochs\"),plt.ylabel(\"MSE Error\")\r\n",
        "plt.legend(),plt.grid()\r\n",
        "\r\n",
        "# 2 Capas LSTM y 1 Capas Densas\r\n",
        "plt.subplot(1,3,3)\r\n",
        "plt.title(\"2 LSTM, 1 Dense\")\r\n",
        "plt.plot(history3.history[\"loss\"],\"b.\",label=\"Train_loss\")\r\n",
        "plt.plot(history3.history[\"val_loss\"],\"g.\",label=\"Val_loss\")\r\n",
        "plt.axhline(y=tst_loss3,color=\"k\",linestyle=\"-.\",label=\"Tst_loss\")\r\n",
        "plt.xlabel(\"Epochs\"),plt.ylabel(\"MSE Error\")\r\n",
        "plt.legend(),plt.grid()\r\n",
        "\r\n",
        "\r\n",
        "plt.show()"
      ],
      "execution_count": null,
      "outputs": [
        {
          "output_type": "display_data",
          "data": {
            "image/png": "[encoded data removed]",
            "text/plain": [
              "<Figure size 1440x288 with 3 Axes>"
            ]
          },
          "metadata": {
            "tags": [],
            "needs_background": "light"
          }
        }
      ]
    },
    {
      "cell_type": "markdown",
      "metadata": {
        "id": "JpkjvWrgzexW"
      },
      "source": [
        "**Comparación**\r\n",
        "\r\n",
        "Stacked LSTM funciona mejor para el modelo univariado que para el multivariado, ya que disminuye el error y no se puede apreciar por el comportamiento de la curva si es que esta sobreajustando o no, mientras que en el multivariado empeora. \r\n",
        "\r\n",
        "Cuando se tienen 2 capas densas o 2 capas LSTM el modelo univariado también tiene un mejor comportamiento que en el caso del multivariado, aunque en el caso multivariado no se arruina tanto el desempeño a diferencia del stacked LSTM.\r\n",
        "\r\n",
        "\r\n",
        "**Comentarios**\r\n",
        "\r\n",
        "En el caso multivariado aumentaron los errores compara a cuando se tenía solo una capa LSTM y Densa, por lo que una arquitectura más compleja no necesariamente mejora el desempeño, como se puede observar en este caso. Esto se puede deber a que considerar múltiples variables es complejo en sí, por lo tanto aumentar la coplejidad de la arquitectura dificulta que las predicciones sean correctas.\r\n",
        "\r\n",
        "En el caso del modelo univariado, cuando se tienen 2 capas LSTM y Densas, se ve que el error disminuye y no se aprecia sobreajusto. Esto se debe a que la red LSTM está cumpliendo su objetivo, es decir, esta decidiendo correctamente que información recordar y olvidar. Por lo tanto, se evita el sobreajuste.\r\n",
        "\r\n",
        "**Respuesta**\r\n",
        "\r\n",
        "¿Por qué cuando una capa LSTM precede otra capa LSTM es necesario utilizar return_sequences=True? ¿Es necesario/recomendado utilizar return_sequences=False cuando una capa LSTM precede a una capa Densa?\r\n",
        "\r\n",
        "Es necesario utilizar return-sequences=True, para que la segunda capa LSTM tenga una secuencia de entradas tridimensional, esto debido a que la celda de memoria de LSTM requiere una entrada 3D, entonces return-sequences=True genera una salida 3D. Por esta misma razón, es necesario utilizar return_sequences=False cuando la capa LSTM precede a la capa Densa, ya que la capa Densa recibe entradas 2D."
      ]
    },
    {
      "cell_type": "markdown",
      "metadata": {
        "id": "cEN5mu_bgJx0"
      },
      "source": [
        "##### II) Añadiremos entradas a la capa Densa que indiquen la hora del día de forma bi-dimensional, semejante a un reloj, y una variable dummy que indica si es de día o noche. Ejecute el siguiente código para generar las entradas adicionales, y **añada la entrada** a la arquitectura entregada. Esta forma de ingresar variables adicionales a la capa densa se asemeja a la arquitectura skip-connections vista en la Tarea 1. **La hora que se entrega para indicar si es de día o noche es intencionalmente erronea**. Utilizando los datos de radiación del conjunto de entrenamiento **deberá definir las horas de día y noche de manera justificada**. \n",
        "\n",
        "**Comente** sobre los resultados obtenidos.\n",
        "\n",
        "**Pregunta:** ¿Por qué puede resultar beneficioso representar la hora del día de manera bidimensional en lugar de unidimensional? "
      ]
    },
    {
      "cell_type": "code",
      "metadata": {
        "id": "d9fmUh2AnDV4"
      },
      "source": [
        "daytimehrs=[6,18]"
      ],
      "execution_count": null,
      "outputs": []
    },
    {
      "cell_type": "code",
      "metadata": {
        "id": "RZ9FNdtYjGuk"
      },
      "source": [
        "from math import *\n",
        "hour_1_tr=np.asarray(np.sin(2*pi*pd.to_datetime(t_tr).hour/24)).reshape(-1,1)\n",
        "hour_2_tr=np.asarray(np.cos(2*pi*pd.to_datetime(t_tr).hour/24)).reshape(-1,1)\n",
        "dummy_tr=(1*(pd.to_datetime(t_tr).hour<daytimehrs[1])*(pd.to_datetime(t_tr).hour>daytimehrs[0])).reshape(-1,1)\n",
        "hour_1_val=np.asarray(np.sin(2*pi*pd.to_datetime(t_val).hour/24)).reshape(-1,1)\n",
        "hour_2_val=np.asarray(np.cos(2*pi*pd.to_datetime(t_val).hour/24)).reshape(-1,1)\n",
        "dummy_val=(1*(pd.to_datetime(t_val).hour<daytimehrs[1])*(pd.to_datetime(t_val).hour>daytimehrs[0])).reshape(-1,1)\n",
        "hour_1_tst=np.asarray(np.sin(2*pi*pd.to_datetime(t_tst).hour/24)).reshape(-1,1)\n",
        "hour_2_tst=np.asarray(np.cos(2*pi*pd.to_datetime(t_tst).hour/24)).reshape(-1,1)\n",
        "dummy_tst=(1*(pd.to_datetime(t_tst).hour<daytimehrs[1])*(pd.to_datetime(t_tst).hour>daytimehrs[0])).reshape(-1,1)\n",
        "\n",
        "ext_tr=np.concatenate((hour_1_tr,hour_2_tr,dummy_tr),axis=1)\n",
        "ext_val=np.concatenate((hour_1_val,hour_2_val,dummy_val),axis=1)\n",
        "ext_tst=np.concatenate((hour_1_tst,hour_2_tst,dummy_tst),axis=1)"
      ],
      "execution_count": null,
      "outputs": []
    },
    {
      "cell_type": "code",
      "metadata": {
        "id": "GoDGtxGZexXO",
        "colab": {
          "base_uri": "https://localhost:8080/",
          "height": 1000
        },
        "outputId": "414bf947-5b2d-42e4-8a41-d1a17f1f41ba"
      },
      "source": [
        "from keras.layers import concatenate\n",
        "\n",
        "input_lstm= input_layer.Input(shape=(x_tr.shape[1:]))\n",
        "rnn=layers.LSTM(units=56,return_sequences=True)(input_lstm) # 1° lstm\n",
        "rnn=layers.LSTM(units=56,return_sequences=False)(rnn) # 2° lstm\n",
        "input_clock= input_layer.Input(shape=(3))\n",
        "input_dense=concatenate([rnn, input_clock])\n",
        "dens=layers.Dense(32, activation='relu')(input_dense) # 1° densa\n",
        "dens=layers.Dense(len_out, activation='sigmoid')(dens) # 2° densa\n",
        "model=models.Model(inputs=[input_lstm,input_clock], outputs=dens)\n",
        "model.compile(loss='mse', optimizer='adam')\n",
        "model.summary()\n",
        "history = model.fit([x_tr,ext_tr],y_tr, validation_data=([x_val,ext_val],y_val), epochs=10, batch_size=16,verbose=True)\n",
        "y_pred=model([x_tst,ext_tst])\n",
        "tst_loss=tf.math.reduce_mean(tf.keras.losses.MSE(y_tst, y_pred)).numpy()\n",
        "\n",
        "# Gráfico\n",
        "plt.rcParams[\"figure.figsize\"]=[20,4]\n",
        "plt.title(\"Modelo Multivariado - Hora bidimensional\")\n",
        "plt.plot(history.history[\"loss\"],\"b.\",label=\"Train_loss\")\n",
        "plt.plot(history.history[\"val_loss\"],\"g.\",label=\"Val_loss\")\n",
        "plt.axhline(y=tst_loss,color=\"k\",linestyle=\"-.\",label=\"Tst_loss\")\n",
        "plt.xlabel(\"Epochs\"),plt.ylabel(\"MSE Error\")\n",
        "plt.legend(),plt.grid()\n",
        "plt.show()"
      ],
      "execution_count": null,
      "outputs": [
        {
          "output_type": "stream",
          "text": [
            "Model: \"model_27\"\n",
            "__________________________________________________________________________________________________\n",
            "Layer (type)                    Output Shape         Param #     Connected to                     \n",
            "==================================================================================================\n",
            "input_50 (InputLayer)           [(None, 24, 6)]      0                                            \n",
            "__________________________________________________________________________________________________\n",
            "lstm_51 (LSTM)                  (None, 24, 56)       14112       input_50[0][0]                   \n",
            "__________________________________________________________________________________________________\n",
            "lstm_52 (LSTM)                  (None, 56)           25312       lstm_51[0][0]                    \n",
            "__________________________________________________________________________________________________\n",
            "input_51 (InputLayer)           [(None, 3)]          0                                            \n",
            "__________________________________________________________________________________________________\n",
            "concatenate_19 (Concatenate)    (None, 59)           0           lstm_52[0][0]                    \n",
            "                                                                 input_51[0][0]                   \n",
            "__________________________________________________________________________________________________\n",
            "dense_50 (Dense)                (None, 32)           1920        concatenate_19[0][0]             \n",
            "__________________________________________________________________________________________________\n",
            "dense_51 (Dense)                (None, 24)           792         dense_50[0][0]                   \n",
            "==================================================================================================\n",
            "Total params: 42,136\n",
            "Trainable params: 42,136\n",
            "Non-trainable params: 0\n",
            "__________________________________________________________________________________________________\n",
            "Epoch 1/10\n",
            "121/121 [==============================] - 12s 60ms/step - loss: 1.0566 - val_loss: 0.6422\n",
            "Epoch 2/10\n",
            "121/121 [==============================] - 6s 50ms/step - loss: 0.5383 - val_loss: 0.6183\n",
            "Epoch 3/10\n",
            "121/121 [==============================] - 6s 49ms/step - loss: 0.5136 - val_loss: 0.6064\n",
            "Epoch 4/10\n",
            "121/121 [==============================] - 6s 49ms/step - loss: 0.5049 - val_loss: 0.6113\n",
            "Epoch 5/10\n",
            "121/121 [==============================] - 6s 49ms/step - loss: 0.4958 - val_loss: 0.6225\n",
            "Epoch 6/10\n",
            "121/121 [==============================] - 6s 49ms/step - loss: 0.4963 - val_loss: 0.5328\n",
            "Epoch 7/10\n",
            "121/121 [==============================] - 6s 49ms/step - loss: 0.4864 - val_loss: 0.5795\n",
            "Epoch 8/10\n",
            "121/121 [==============================] - 6s 49ms/step - loss: 0.4863 - val_loss: 0.5591\n",
            "Epoch 9/10\n",
            "121/121 [==============================] - 6s 49ms/step - loss: 0.4818 - val_loss: 0.5376\n",
            "Epoch 10/10\n",
            "121/121 [==============================] - 6s 49ms/step - loss: 0.4762 - val_loss: 0.5299\n"
          ],
          "name": "stdout"
        },
        {
          "output_type": "display_data",
          "data": {
            "image/png": "[encoded data removed]",
            "text/plain": [
              "<Figure size 1440x288 with 1 Axes>"
            ]
          },
          "metadata": {
            "tags": [],
            "needs_background": "light"
          }
        }
      ]
    },
    {
      "cell_type": "code",
      "metadata": {
        "colab": {
          "base_uri": "https://localhost:8080/",
          "height": 1000
        },
        "id": "4zJVc5wRFt9J",
        "outputId": "289a9dfc-3e1f-4b61-f792-2d1708e02243"
      },
      "source": [
        "input_lstm= input_layer.Input(shape=(x_tr.shape[1],1))\r\n",
        "rnn=layers.LSTM(units=56,return_sequences=True)(input_lstm) # 1° lstm\r\n",
        "rnn=layers.LSTM(units=56,return_sequences=False)(rnn) # 2° lstm\r\n",
        "input_clock= input_layer.Input(shape=(3))\r\n",
        "input_dense=concatenate([rnn, input_clock])\r\n",
        "dens=layers.Dense(32, activation='relu')(input_dense) # 1° densa\r\n",
        "dens=layers.Dense(len_out, activation='sigmoid')(dens) # 2° densa\r\n",
        "model=models.Model(inputs=[input_lstm,input_clock], outputs=dens)\r\n",
        "model.compile(loss='mse', optimizer='adam')\r\n",
        "model.summary()\r\n",
        "history = model.fit([x_tr[:,:,0:1],ext_tr],y_tr, validation_data=([x_val[:,:,0:1],ext_val],y_val), epochs=10, batch_size=16,verbose=True)\r\n",
        "y_pred=model([x_tst[:,:,0:1],ext_tst])\r\n",
        "tst_loss=tf.math.reduce_mean(tf.keras.losses.MSE(y_tst, y_pred)).numpy()\r\n",
        "\r\n",
        "plt.rcParams[\"figure.figsize\"]=[20,4]\r\n",
        "# Hora Bidimensional\r\n",
        "plt.title(\"Modelo Univariado - Hora bidimensional\")\r\n",
        "plt.plot(history.history[\"loss\"],\"b.\",label=\"Train_loss\")\r\n",
        "plt.plot(history.history[\"val_loss\"],\"g.\",label=\"Val_loss\")\r\n",
        "plt.axhline(y=tst_loss,color=\"k\",linestyle=\"-.\",label=\"Tst_loss\")\r\n",
        "plt.xlabel(\"Epochs\"),plt.ylabel(\"MSE Error\")\r\n",
        "plt.legend(),plt.grid()\r\n",
        "plt.show()"
      ],
      "execution_count": null,
      "outputs": [
        {
          "output_type": "stream",
          "text": [
            "Model: \"model_28\"\n",
            "__________________________________________________________________________________________________\n",
            "Layer (type)                    Output Shape         Param #     Connected to                     \n",
            "==================================================================================================\n",
            "input_52 (InputLayer)           [(None, 24, 1)]      0                                            \n",
            "__________________________________________________________________________________________________\n",
            "lstm_53 (LSTM)                  (None, 24, 56)       12992       input_52[0][0]                   \n",
            "__________________________________________________________________________________________________\n",
            "lstm_54 (LSTM)                  (None, 56)           25312       lstm_53[0][0]                    \n",
            "__________________________________________________________________________________________________\n",
            "input_53 (InputLayer)           [(None, 3)]          0                                            \n",
            "__________________________________________________________________________________________________\n",
            "concatenate_20 (Concatenate)    (None, 59)           0           lstm_54[0][0]                    \n",
            "                                                                 input_53[0][0]                   \n",
            "__________________________________________________________________________________________________\n",
            "dense_52 (Dense)                (None, 32)           1920        concatenate_20[0][0]             \n",
            "__________________________________________________________________________________________________\n",
            "dense_53 (Dense)                (None, 24)           792         dense_52[0][0]                   \n",
            "==================================================================================================\n",
            "Total params: 41,016\n",
            "Trainable params: 41,016\n",
            "Non-trainable params: 0\n",
            "__________________________________________________________________________________________________\n",
            "Epoch 1/10\n",
            "121/121 [==============================] - 12s 54ms/step - loss: 1.0378 - val_loss: 0.6287\n",
            "Epoch 2/10\n",
            "121/121 [==============================] - 6s 50ms/step - loss: 0.5411 - val_loss: 0.5376\n",
            "Epoch 3/10\n",
            "121/121 [==============================] - 6s 49ms/step - loss: 0.5154 - val_loss: 0.5149\n",
            "Epoch 4/10\n",
            "121/121 [==============================] - 6s 49ms/step - loss: 0.5110 - val_loss: 0.5106\n",
            "Epoch 5/10\n",
            "121/121 [==============================] - 6s 49ms/step - loss: 0.5060 - val_loss: 0.5148\n",
            "Epoch 6/10\n",
            "121/121 [==============================] - 6s 50ms/step - loss: 0.5179 - val_loss: 0.5081\n",
            "Epoch 7/10\n",
            "121/121 [==============================] - 6s 51ms/step - loss: 0.5063 - val_loss: 0.4901\n",
            "Epoch 8/10\n",
            "121/121 [==============================] - 6s 50ms/step - loss: 0.5008 - val_loss: 0.4840\n",
            "Epoch 9/10\n",
            "121/121 [==============================] - 6s 50ms/step - loss: 0.5016 - val_loss: 0.4904\n",
            "Epoch 10/10\n",
            "121/121 [==============================] - 6s 50ms/step - loss: 0.5025 - val_loss: 0.5067\n"
          ],
          "name": "stdout"
        },
        {
          "output_type": "display_data",
          "data": {
            "image/png": "[encoded data removed]",
            "text/plain": [
              "<Figure size 1440x288 with 1 Axes>"
            ]
          },
          "metadata": {
            "tags": [],
            "needs_background": "light"
          }
        }
      ]
    },
    {
      "cell_type": "markdown",
      "metadata": {
        "id": "QWABhRBgEVLx"
      },
      "source": [
        "**Comentarios**\r\n",
        "\r\n",
        "Las horas que se identificaron como día fue desde las 6:00 hasta las 18:00, esto debido a que en el grafico (1.V) la curva de radiación empieza a aumentar a partir de las 6:00 y disminuye a 0 a las 18:00, esto indica que durante esas horas hay radiación solar, por lo tanto, es de día.\r\n",
        "\r\n",
        "Además, en los gráficos se ve que el error disminuye levemente en ambos casos, pudiendo concluir que representar la hora del día de manera bidimensional resulta beneficiosa para la predicción.\r\n",
        "\r\n",
        "**Respuesta**\r\n",
        "\r\n",
        "¿Por qué puede resultar beneficioso representar la hora del día de manera bidimensional en lugar de unidimensional?\r\n",
        "\r\n",
        "Esto puede resultar beneficioso porque la radiación se comporta como un ciclo, entonces si se utiliza una representación unidimensional la diferencia entre el valor de las 24 horas y las 0 tendría un salto muy grande, por lo tanto, al hacer esta transformación con senos y cosenos (bidimensional), existe continuidad en los intervalos de tiempo."
      ]
    },
    {
      "cell_type": "markdown",
      "metadata": {
        "id": "M-W1B3sQoSR9"
      },
      "source": [
        "##### III) Entrene la misma arquitectura que en la pregunta anterior utilizando unidades GRU en lugar de LSTM. **Explique la diferencia entre GRU y LSTM**. **Compare** los resultados con los obtenidos en el punto anterior."
      ]
    },
    {
      "cell_type": "code",
      "metadata": {
        "id": "HMj1c6gZlbjJ",
        "colab": {
          "base_uri": "https://localhost:8080/",
          "height": 1000
        },
        "outputId": "7d17b2ae-ddd8-42d6-c237-b7f1d93cf866"
      },
      "source": [
        "input_lstm= input_layer.Input(shape=(x_tr.shape[1:]))\n",
        "rnn=layers.GRU(units=56,return_sequences=True)(input_lstm) # 1° capa gru\n",
        "rnn=layers.GRU(units=56,return_sequences=False)(rnn) # 2° capa gru\n",
        "input_clock= input_layer.Input(shape=(3))\n",
        "input_dense=concatenate([rnn, input_clock])\n",
        "dens=layers.Dense(32, activation='relu')(input_dense) # 1° densa\n",
        "dens=layers.Dense(len_out, activation='sigmoid')(dens) # 2° densa\n",
        "model=models.Model(inputs=[input_lstm,input_clock], outputs=dens)\n",
        "model.compile(loss='mse', optimizer='adam')\n",
        "model.summary()\n",
        "history = model.fit([x_tr,ext_tr],y_tr, validation_data=([x_val,ext_val],y_val), epochs=10, batch_size=16,verbose=True)\n",
        "y_pred=model([x_tst,ext_tst])\n",
        "tst_loss=tf.math.reduce_mean(tf.keras.losses.MSE(y_tst, y_pred)).numpy()\n",
        "\n",
        "# Gráfico\n",
        "plt.rcParams[\"figure.figsize\"]=[20,4]\n",
        "plt.title(\"GRU\")\n",
        "plt.plot(history.history[\"loss\"],\"b.\",label=\"Train_loss\")\n",
        "plt.plot(history.history[\"val_loss\"],\"g.\",label=\"Val_loss\")\n",
        "plt.axhline(y=tst_loss,color=\"k\",linestyle=\"-.\",label=\"Tst_loss\")\n",
        "plt.xlabel(\"Epochs\"),plt.ylabel(\"MSE Error\")\n",
        "plt.legend(),plt.grid()\n",
        "plt.show()"
      ],
      "execution_count": null,
      "outputs": [
        {
          "output_type": "stream",
          "text": [
            "Model: \"model_31\"\n",
            "__________________________________________________________________________________________________\n",
            "Layer (type)                    Output Shape         Param #     Connected to                     \n",
            "==================================================================================================\n",
            "input_58 (InputLayer)           [(None, 24, 6)]      0                                            \n",
            "__________________________________________________________________________________________________\n",
            "gru_4 (GRU)                     (None, 24, 56)       10584       input_58[0][0]                   \n",
            "__________________________________________________________________________________________________\n",
            "gru_5 (GRU)                     (None, 56)           18984       gru_4[0][0]                      \n",
            "__________________________________________________________________________________________________\n",
            "input_59 (InputLayer)           [(None, 3)]          0                                            \n",
            "__________________________________________________________________________________________________\n",
            "concatenate_23 (Concatenate)    (None, 59)           0           gru_5[0][0]                      \n",
            "                                                                 input_59[0][0]                   \n",
            "__________________________________________________________________________________________________\n",
            "dense_58 (Dense)                (None, 32)           1920        concatenate_23[0][0]             \n",
            "__________________________________________________________________________________________________\n",
            "dense_59 (Dense)                (None, 24)           792         dense_58[0][0]                   \n",
            "==================================================================================================\n",
            "Total params: 32,280\n",
            "Trainable params: 32,280\n",
            "Non-trainable params: 0\n",
            "__________________________________________________________________________________________________\n",
            "Epoch 1/10\n",
            "121/121 [==============================] - 11s 50ms/step - loss: 1.0606 - val_loss: 0.6990\n",
            "Epoch 2/10\n",
            "121/121 [==============================] - 5s 45ms/step - loss: 0.5419 - val_loss: 0.6884\n",
            "Epoch 3/10\n",
            "121/121 [==============================] - 6s 50ms/step - loss: 0.5130 - val_loss: 0.6914\n",
            "Epoch 4/10\n",
            "121/121 [==============================] - 5s 45ms/step - loss: 0.5054 - val_loss: 0.7029\n",
            "Epoch 5/10\n",
            "121/121 [==============================] - 5s 45ms/step - loss: 0.5029 - val_loss: 0.6969\n",
            "Epoch 6/10\n",
            "121/121 [==============================] - 5s 45ms/step - loss: 0.4981 - val_loss: 0.6994\n",
            "Epoch 7/10\n",
            "121/121 [==============================] - 5s 44ms/step - loss: 0.4970 - val_loss: 0.6963\n",
            "Epoch 8/10\n",
            "121/121 [==============================] - 5s 44ms/step - loss: 0.4951 - val_loss: 0.6925\n",
            "Epoch 9/10\n",
            "121/121 [==============================] - 5s 45ms/step - loss: 0.4996 - val_loss: 0.6898\n",
            "Epoch 10/10\n",
            "121/121 [==============================] - 5s 45ms/step - loss: 0.4935 - val_loss: 0.6932\n"
          ],
          "name": "stdout"
        },
        {
          "output_type": "display_data",
          "data": {
            "image/png": "[encoded data removed]",
            "text/plain": [
              "<Figure size 1440x288 with 1 Axes>"
            ]
          },
          "metadata": {
            "tags": [],
            "needs_background": "light"
          }
        }
      ]
    },
    {
      "cell_type": "code",
      "metadata": {
        "colab": {
          "base_uri": "https://localhost:8080/",
          "height": 1000
        },
        "id": "3B_U8MHfvi8u",
        "outputId": "9086681a-0740-453b-8ee6-4e0e3e3ad823"
      },
      "source": [
        "input_lstm= input_layer.Input(shape=(x_tr.shape[1],1))\r\n",
        "rnn=layers.GRU(units=56,return_sequences=True)(input_lstm) # 1° capa gru\r\n",
        "rnn=layers.GRU(units=56,return_sequences=False)(rnn) # 2° capa gru\r\n",
        "input_clock= input_layer.Input(shape=(3))\r\n",
        "input_dense=concatenate([rnn, input_clock])\r\n",
        "dens=layers.Dense(32, activation='relu')(input_dense) # 1° densa\r\n",
        "dens=layers.Dense(len_out, activation='sigmoid')(dens) # 2° densa\r\n",
        "model=models.Model(inputs=[input_lstm,input_clock], outputs=dens)\r\n",
        "model.compile(loss='mse', optimizer='adam')\r\n",
        "model.summary()\r\n",
        "history = model.fit([x_tr[:,:,0:1],ext_tr],y_tr, validation_data=([x_val[:,:,0:1],ext_val],y_val), epochs=10, batch_size=16,verbose=True)\r\n",
        "y_pred=model([x_tst[:,:,0:1],ext_tst])\r\n",
        "tst_loss=tf.math.reduce_mean(tf.keras.losses.MSE(y_tst, y_pred)).numpy()\r\n",
        "\r\n",
        "# Gráfico\r\n",
        "plt.rcParams[\"figure.figsize\"]=[20,4]\r\n",
        "plt.title(\"GRU\")\r\n",
        "plt.plot(history.history[\"loss\"],\"b.\",label=\"Train_loss\")\r\n",
        "plt.plot(history.history[\"val_loss\"],\"g.\",label=\"Val_loss\")\r\n",
        "plt.axhline(y=tst_loss,color=\"k\",linestyle=\"-.\",label=\"Tst_loss\")\r\n",
        "plt.xlabel(\"Epochs\"),plt.ylabel(\"MSE Error\")\r\n",
        "plt.legend(),plt.grid()\r\n",
        "plt.show()"
      ],
      "execution_count": null,
      "outputs": [
        {
          "output_type": "stream",
          "text": [
            "Model: \"model_32\"\n",
            "__________________________________________________________________________________________________\n",
            "Layer (type)                    Output Shape         Param #     Connected to                     \n",
            "==================================================================================================\n",
            "input_60 (InputLayer)           [(None, 24, 1)]      0                                            \n",
            "__________________________________________________________________________________________________\n",
            "gru_6 (GRU)                     (None, 24, 56)       9744        input_60[0][0]                   \n",
            "__________________________________________________________________________________________________\n",
            "gru_7 (GRU)                     (None, 56)           18984       gru_6[0][0]                      \n",
            "__________________________________________________________________________________________________\n",
            "input_61 (InputLayer)           [(None, 3)]          0                                            \n",
            "__________________________________________________________________________________________________\n",
            "concatenate_24 (Concatenate)    (None, 59)           0           gru_7[0][0]                      \n",
            "                                                                 input_61[0][0]                   \n",
            "__________________________________________________________________________________________________\n",
            "dense_60 (Dense)                (None, 32)           1920        concatenate_24[0][0]             \n",
            "__________________________________________________________________________________________________\n",
            "dense_61 (Dense)                (None, 24)           792         dense_60[0][0]                   \n",
            "==================================================================================================\n",
            "Total params: 31,440\n",
            "Trainable params: 31,440\n",
            "Non-trainable params: 0\n",
            "__________________________________________________________________________________________________\n",
            "Epoch 1/10\n",
            "121/121 [==============================] - 11s 50ms/step - loss: 1.0359 - val_loss: 0.6135\n",
            "Epoch 2/10\n",
            "121/121 [==============================] - 6s 46ms/step - loss: 0.5429 - val_loss: 0.6173\n",
            "Epoch 3/10\n",
            "121/121 [==============================] - 6s 45ms/step - loss: 0.5197 - val_loss: 0.6169\n",
            "Epoch 4/10\n",
            "121/121 [==============================] - 6s 46ms/step - loss: 0.5138 - val_loss: 0.6198\n",
            "Epoch 5/10\n",
            "121/121 [==============================] - 6s 46ms/step - loss: 0.5134 - val_loss: 0.6096\n",
            "Epoch 6/10\n",
            "121/121 [==============================] - 5s 45ms/step - loss: 0.5138 - val_loss: 0.5927\n",
            "Epoch 7/10\n",
            "121/121 [==============================] - 6s 46ms/step - loss: 0.5077 - val_loss: 0.5950\n",
            "Epoch 8/10\n",
            "121/121 [==============================] - 6s 47ms/step - loss: 0.5070 - val_loss: 0.6048\n",
            "Epoch 9/10\n",
            "121/121 [==============================] - 6s 52ms/step - loss: 0.5044 - val_loss: 0.5904\n",
            "Epoch 10/10\n",
            "121/121 [==============================] - 6s 52ms/step - loss: 0.5036 - val_loss: 0.5729\n"
          ],
          "name": "stdout"
        },
        {
          "output_type": "display_data",
          "data": {
            "image/png": "[encoded data removed]",
            "text/plain": [
              "<Figure size 1440x288 with 1 Axes>"
            ]
          },
          "metadata": {
            "tags": [],
            "needs_background": "light"
          }
        }
      ]
    },
    {
      "cell_type": "markdown",
      "metadata": {
        "id": "kFSM21elC1Bs"
      },
      "source": [
        "**Diferencias**\r\n",
        "\r\n",
        "La diferencia principal entre GRU y LSTM es que GRU no tiene que usar una unidad de memoria para controlar el flujo de la información como en LSTM, esto busca hacer uso de todos los estados de control de forma directa.\r\n",
        "\r\n",
        "Además, GRU tiene solo 2 compuertas, estas son reset gate y update gate:\r\n",
        "\r\n",
        "* Reset Gate: Determina como combinar la nueva entrada con las entradas previas.\r\n",
        "* Update Gate: Define cuanta información anterior mantener. \r\n",
        "\r\n",
        "Por otro lado, LSTM tiene 3 compuertas como se mencionó anteriormente.\r\n",
        "\r\n",
        "**Comparación**\r\n",
        "\r\n",
        "Para este caso LSTM tiene mejor desempeño que GRU, aunque el error es levemente menor en LSTM, en ninguno de los casos se logra ver sobreajuste, puede que si se aumenta el número de epochs se pueda ver mejor este comportamiento pero puede tardar demasiado tiempo.\r\n",
        "\r\n",
        "Este comportamiento se puede deber a que LSTM ocupa más parámetros (42.000), mientras que GRU utiliza 32.000 parámetros, por lo tanto, es más precisa que GRU y tiene menor error. Por esta misma razón, GRU tiende a demorarse menos y ocupar menos recursos."
      ]
    },
    {
      "cell_type": "markdown",
      "metadata": {
        "id": "b-b_EsDp_jxA"
      },
      "source": [
        "##### IV) Con la red con mejor rendimiento, respecto al error de validación, en este punto 1.c) ejecute el siguiente código y saque conclusiones del violin plot.\n",
        "\n",
        "**Pregunta:** ¿Qué hace un violin plot?"
      ]
    },
    {
      "cell_type": "code",
      "metadata": {
        "id": "5SXG6WzaBOpU",
        "colab": {
          "base_uri": "https://localhost:8080/",
          "height": 482
        },
        "outputId": "3277898d-65c6-460b-8b41-5968041502ac"
      },
      "source": [
        "# Red \n",
        "input_lstm= input_layer.Input(shape=(x_tr.shape[1:]))\n",
        "rnn=layers.LSTM(units=56,return_sequences=True)(input_lstm) # 1° lstm\n",
        "rnn=layers.LSTM(units=56,return_sequences=False)(rnn) # 2° lstm\n",
        "dens=layers.Dense(32, activation='relu')(rnn) # 1° densa\n",
        "dens=layers.Dense(len_out, activation='sigmoid')(dens) # 2° densa\n",
        "model=models.Model(inputs=input_lstm, outputs=dens)\n",
        "model.compile(loss='mse', optimizer='adam')\n",
        "model.summary()\n",
        "history = model.fit(x_tr,y_tr, validation_data=(x_val,y_val), epochs=10, batch_size=16,verbose=False)\n",
        "\n",
        "y_pred=model(x_tst)\n",
        "tst_loss=((y_tst- y_pred)**2).numpy()\n",
        "plt.rcParams[\"figure.figsize\"]=[20,3]\n",
        "plt.title(\"Violin Plot: Radiación \",size=22)\n",
        "plt.violinplot(tst_loss)\n",
        "plt.xlabel(\"Hours ahead\",size=18)\n",
        "plt.ylabel(\"$(y_{true}-y_{pred})^2$\",size=18)\n",
        "plt.xticks(np.arange(25))\n",
        "plt.grid()\n",
        "plt.show()"
      ],
      "execution_count": null,
      "outputs": [
        {
          "output_type": "stream",
          "text": [
            "Model: \"model_61\"\n",
            "_________________________________________________________________\n",
            "Layer (type)                 Output Shape              Param #   \n",
            "=================================================================\n",
            "input_98 (InputLayer)        [(None, 24, 6)]           0         \n",
            "_________________________________________________________________\n",
            "lstm_110 (LSTM)              (None, 24, 56)            14112     \n",
            "_________________________________________________________________\n",
            "lstm_111 (LSTM)              (None, 56)                25312     \n",
            "_________________________________________________________________\n",
            "dense_106 (Dense)            (None, 32)                1824      \n",
            "_________________________________________________________________\n",
            "dense_107 (Dense)            (None, 24)                792       \n",
            "=================================================================\n",
            "Total params: 42,040\n",
            "Trainable params: 42,040\n",
            "Non-trainable params: 0\n",
            "_________________________________________________________________\n"
          ],
          "name": "stdout"
        },
        {
          "output_type": "display_data",
          "data": {
            "image/png": "[encoded data removed]",
            "text/plain": [
              "<Figure size 1440x216 with 1 Axes>"
            ]
          },
          "metadata": {
            "tags": [],
            "needs_background": "light"
          }
        }
      ]
    },
    {
      "cell_type": "markdown",
      "metadata": {
        "id": "qb8IIsiBoXOP"
      },
      "source": [
        "La red de 1.c que se utilizó fue la stacked LSTM multivariada (1.c.i), ya que toma más información que la univariada y se tiene información de las 24 horas (unidimensional).\r\n",
        "\r\n",
        "**Respuesta**\r\n",
        "\r\n",
        "¿Qué hace un violin plot?\r\n",
        "\r\n",
        "Violin plot muesta la probabilidad de densidad y los cuartiles de la distribución. Por lo tanto, en los gráficos se puede apreciar error que se alcanza en determinadas horas, además las partes más delgadas del violin son datos atípicos (outlier).\r\n"
      ]
    },
    {
      "cell_type": "markdown",
      "metadata": {
        "id": "iNaqKOfVpS5Y"
      },
      "source": [
        "## 1.d) Parameters & hyperparameters tunning. "
      ]
    },
    {
      "cell_type": "markdown",
      "metadata": {
        "id": "8ur2jxIK0jQ-"
      },
      "source": [
        "##### I) Como se habrá percatado, existe una **inmensa** cantidad de hiperparámetros que uno puede ajustar en las arquitecturas de redes neuronales (learning rate, profundidad de red, n° de neuronas en cada capa, optimizador, cantidad de epochs), también se puede considerar como hiperparámetro si es que incluir o no métodos tales como batch normalization, regularización L1/L2 o dropout en la red neuronal, a la vez habrá qué decidir dónde situar estos métodos, y cómo ajustar sus propios hiperparámetros. Aún más, también es posible experimentar con la manipulación del dataset, p.ej decidir si usar una entrada univariada, multivariada, o un punto intermedio (y si es un punto intermedio qué variables ocupar), también es posible variar el largo de las series de tiempo de entrada.\n",
        "\n",
        "Prepare un código para hacer **Random Search**, dado que los tiempos de entrenamiento serán desproporcionados, **NO ENTRENE** las redes neuronales, pero evalúe en el conjunto de validación como si las hubiese entrenado para escoger los \"\"mejores\"\" parámetros & hiperparámetros de la red neuronal. Mantenga el objetivo de predecir la radiación para las siguientes 24 horas. **Imprima** (print) los valores de los parámetros & hiperparámetros de la red que se esté evaluando, indicando a qué corresponde, y recolecte el error de validación. Realice un Random Search de largo 100, apóyese en el código entregado, **expándalo** desde la búsqueda de 3 hiperparámetros/parámetros hasta una búsqueda de al menos **12** hiperparámetros/parámetros, puede escoger de los ejemplos dados en el primer párrafo de este ítem, o bien escoger por su propia cuenta. El código debe ser funcional, es decir, las _arquitecturas/manipulaciones del dataset_ indicadas por los hiperparámetros/parámetros deben ser efectivamente aplicadas en la construcción de la red neuronal y/o manipulación de datos. Note que en el código dado, un hiperparámetro a ajustar es recurrent dropout. **Indique** cuál fue la mejor arquitectura encontrada según el error de validación.\n",
        "\n",
        "**Preguntas:** \n",
        "\n",
        "i) ¿Qué alternativas al Random Search existen? Nombre al menos una. \n",
        "\n",
        "ii) ¿Qué hace el método recurrent dropout?"
      ]
    },
    {
      "cell_type": "code",
      "metadata": {
        "id": "mPtSbWlNu_jw",
        "colab": {
          "base_uri": "https://localhost:8080/"
        },
        "outputId": "1e9c3b21-979d-478b-abd6-f0b1933ac4ad"
      },
      "source": [
        "from keras.optimizers import SGD, Adam, RMSprop, Adagrad, Adadelta\n",
        "optimizers = [SGD, Adam, RMSprop, Adagrad, Adadelta]\n",
        "kernel_initializers = ['he_uniform','glorot_normal','glorot_uniform']\n",
        "activations = ['sigmoid','tanh']\n",
        "inputs = ['univariada', 'multivariada'] #univariado o multivariado\n",
        "val_h=[]\n",
        "\n",
        "for random_search in range(100):\n",
        "  prof_rnn=np.random.randint(1,4)\n",
        "  neu_rnn=[np.random.randint(20,40) for t in range(prof_rnn)]\n",
        "  optimizer = optimizers[np.random.randint(0,4)]\n",
        "  activation = activations[np.random.randint(0,1)]\n",
        "  input = inputs[np.random.randint(0,1)]\n",
        "  kernel_initializer = kernel_initializers[np.random.randint(0,3)]\n",
        "  rec_drop=np.random.uniform(0,0.7)\n",
        "  learn_rate = np.random.uniform(1e-6, 1e-1)\n",
        "  learn_decay = np.random.uniform(1e-6, 1e-1)\n",
        "\n",
        "  if( input == 'univariada'):\n",
        "    input_lstm= input_layer.Input(shape=(x_tr.shape[1],1))\n",
        "    for i,neu in enumerate(neu_rnn):\n",
        "      if i==0: rnn=layers.LSTM(units=neu_rnn[0],return_sequences=True,recurrent_dropout=rec_drop, kernel_initializer=kernel_initializer)(input_lstm)\n",
        "      else: rnn=layers.LSTM(units=56,return_sequences=(i+1<prof_rnn),recurrent_dropout=rec_drop, kernel_initializer=kernel_initializer)(rnn)\n",
        "    dens=layers.Dense(len_out, activation=activation)(rnn)\n",
        "    model=models.Model(inputs=input_lstm, outputs=dens)\n",
        "\n",
        "    model.compile(loss='mse', optimizer=optimizer(decay=learn_decay, learning_rate=learn_rate))\n",
        "    y_pred=model(x_val[:,:,0:1])\n",
        "  \n",
        "  else:\n",
        "    input_lstm= input_layer.Input(shape=(x_tr.shape[1:]))\n",
        "    for i,neu in enumerate(neu_rnn):\n",
        "      if i==0: rnn=layers.LSTM(units=neu_rnn[0],return_sequences=True,recurrent_dropout=rec_drop, kernel_initializer=kernel_initializer)(input_lstm)\n",
        "      else: rnn=layers.LSTM(units=56,return_sequences=(i+1<prof_rnn),recurrent_dropout=rec_drop, kernel_initializer=kernel_initializer)(rnn)\n",
        "    dens=layers.Dense(len_out, activation=activation)(rnn)\n",
        "    model=models.Model(inputs=input_lstm, outputs=dens)\n",
        "\n",
        "    model.compile(loss='mse', optimizer=optimizer(decay=learn_decay, learning_rate=learn_rate))\n",
        "    y_pred=model(x_val)\n",
        "  val_loss=tf.math.reduce_mean(tf.keras.losses.MSE(y_val[1], y_pred)).numpy()\n",
        "  val_h.append(val_loss)\n",
        "  print(random_search+1,\"° --->  Profundidad rnn: \",prof_rnn, \" | N° neuronas: \", neu_rnn, \" | Recurrent dropout: \", rec_drop)\n",
        "  print(\"   ° --->  Optimizador: \",optimizer, \" | F. Activación: \", activation, \" | Entrada: \", input)\n",
        "  print(\"   ° --->  Inic. Kernel: \",kernel_initializer, \" | Learning rate: \", learn_rate, \" | Learn Decay: \", learn_decay)\n",
        "  print(\"Validation error: \",val_loss)\n",
        "  print(\"-\"*120)\n",
        "\n",
        "print(\"La mejor arquitectura se encuentra en \", np.argmin(np.array(val_h))+1)"
      ],
      "execution_count": null,
      "outputs": [
        {
          "output_type": "stream",
          "text": [
            "1 ° --->  Profundidad rnn:  3  | N° neuronas:  [31, 38, 39]  | Recurrent dropout:  0.34146738157195017\n",
            "   ° --->  Optimizador:  <class 'tensorflow.python.keras.optimizer_v2.gradient_descent.SGD'>  | F. Activación:  sigmoid  | Entrada:  univariada\n",
            "   ° --->  Inic. Kernel:  glorot_normal  | Learning rate:  0.04757349618146372  | Learn Decay:  0.017454275261406096\n",
            "Validation error:  1.1341661\n",
            "------------------------------------------------------------------------------------------------------------------------\n",
            "2 ° --->  Profundidad rnn:  1  | N° neuronas:  [32]  | Recurrent dropout:  0.2620899519804439\n",
            "   ° --->  Optimizador:  <class 'tensorflow.python.keras.optimizer_v2.rmsprop.RMSprop'>  | F. Activación:  sigmoid  | Entrada:  univariada\n",
            "   ° --->  Inic. Kernel:  glorot_normal  | Learning rate:  0.09866784007013264  | Learn Decay:  0.042895918133470594\n",
            "Validation error:  1.1293806\n",
            "------------------------------------------------------------------------------------------------------------------------\n",
            "3 ° --->  Profundidad rnn:  2  | N° neuronas:  [35, 32]  | Recurrent dropout:  0.4845945579812662\n",
            "   ° --->  Optimizador:  <class 'tensorflow.python.keras.optimizer_v2.rmsprop.RMSprop'>  | F. Activación:  sigmoid  | Entrada:  univariada\n",
            "   ° --->  Inic. Kernel:  glorot_uniform  | Learning rate:  0.06983515657801116  | Learn Decay:  0.03656748346841909\n",
            "Validation error:  1.1336783\n",
            "------------------------------------------------------------------------------------------------------------------------\n",
            "4 ° --->  Profundidad rnn:  1  | N° neuronas:  [31]  | Recurrent dropout:  0.22142042672059387\n",
            "   ° --->  Optimizador:  <class 'tensorflow.python.keras.optimizer_v2.adam.Adam'>  | F. Activación:  sigmoid  | Entrada:  univariada\n",
            "   ° --->  Inic. Kernel:  glorot_normal  | Learning rate:  0.06889496980808694  | Learn Decay:  0.003628294175379832\n",
            "Validation error:  1.1377661\n",
            "------------------------------------------------------------------------------------------------------------------------\n",
            "5 ° --->  Profundidad rnn:  3  | N° neuronas:  [20, 35, 25]  | Recurrent dropout:  0.6700436618702517\n",
            "   ° --->  Optimizador:  <class 'tensorflow.python.keras.optimizer_v2.rmsprop.RMSprop'>  | F. Activación:  sigmoid  | Entrada:  univariada\n",
            "   ° --->  Inic. Kernel:  glorot_uniform  | Learning rate:  0.055737194145434765  | Learn Decay:  0.05492366432788789\n",
            "Validation error:  1.1337755\n",
            "------------------------------------------------------------------------------------------------------------------------\n",
            "6 ° --->  Profundidad rnn:  3  | N° neuronas:  [27, 20, 21]  | Recurrent dropout:  0.23061656720403587\n",
            "   ° --->  Optimizador:  <class 'tensorflow.python.keras.optimizer_v2.rmsprop.RMSprop'>  | F. Activación:  sigmoid  | Entrada:  univariada\n",
            "   ° --->  Inic. Kernel:  he_uniform  | Learning rate:  0.06932804429594577  | Learn Decay:  0.09705325649521014\n",
            "Validation error:  1.142868\n",
            "------------------------------------------------------------------------------------------------------------------------\n",
            "7 ° --->  Profundidad rnn:  2  | N° neuronas:  [30, 27]  | Recurrent dropout:  0.6672005161266721\n",
            "   ° --->  Optimizador:  <class 'tensorflow.python.keras.optimizer_v2.gradient_descent.SGD'>  | F. Activación:  sigmoid  | Entrada:  univariada\n",
            "   ° --->  Inic. Kernel:  he_uniform  | Learning rate:  0.0005177729449410888  | Learn Decay:  0.01900320498638186\n",
            "Validation error:  1.1462964\n",
            "------------------------------------------------------------------------------------------------------------------------\n",
            "8 ° --->  Profundidad rnn:  2  | N° neuronas:  [29, 31]  | Recurrent dropout:  0.6425360637997833\n",
            "   ° --->  Optimizador:  <class 'tensorflow.python.keras.optimizer_v2.adagrad.Adagrad'>  | F. Activación:  sigmoid  | Entrada:  univariada\n",
            "   ° --->  Inic. Kernel:  he_uniform  | Learning rate:  0.09915327554441974  | Learn Decay:  0.09313455507081064\n",
            "Validation error:  1.1188321\n",
            "------------------------------------------------------------------------------------------------------------------------\n",
            "9 ° --->  Profundidad rnn:  1  | N° neuronas:  [23]  | Recurrent dropout:  0.6723517974467805\n",
            "   ° --->  Optimizador:  <class 'tensorflow.python.keras.optimizer_v2.rmsprop.RMSprop'>  | F. Activación:  sigmoid  | Entrada:  univariada\n",
            "   ° --->  Inic. Kernel:  glorot_normal  | Learning rate:  0.09999264102688706  | Learn Decay:  0.09460427311449005\n",
            "Validation error:  1.1333892\n",
            "------------------------------------------------------------------------------------------------------------------------\n",
            "10 ° --->  Profundidad rnn:  3  | N° neuronas:  [28, 24, 26]  | Recurrent dropout:  0.42673722877164866\n",
            "   ° --->  Optimizador:  <class 'tensorflow.python.keras.optimizer_v2.rmsprop.RMSprop'>  | F. Activación:  sigmoid  | Entrada:  univariada\n",
            "   ° --->  Inic. Kernel:  he_uniform  | Learning rate:  0.09802043527638632  | Learn Decay:  0.03996550442335338\n",
            "Validation error:  1.1098992\n",
            "------------------------------------------------------------------------------------------------------------------------\n",
            "11 ° --->  Profundidad rnn:  2  | N° neuronas:  [27, 30]  | Recurrent dropout:  0.14215888574761976\n",
            "   ° --->  Optimizador:  <class 'tensorflow.python.keras.optimizer_v2.adam.Adam'>  | F. Activación:  sigmoid  | Entrada:  univariada\n",
            "   ° --->  Inic. Kernel:  glorot_normal  | Learning rate:  0.007187892008783786  | Learn Decay:  0.049031656257636134\n",
            "Validation error:  1.1321158\n",
            "------------------------------------------------------------------------------------------------------------------------\n",
            "12 ° --->  Profundidad rnn:  1  | N° neuronas:  [23]  | Recurrent dropout:  0.5133357692659932\n",
            "   ° --->  Optimizador:  <class 'tensorflow.python.keras.optimizer_v2.gradient_descent.SGD'>  | F. Activación:  sigmoid  | Entrada:  univariada\n",
            "   ° --->  Inic. Kernel:  glorot_uniform  | Learning rate:  0.06910253367689972  | Learn Decay:  0.07522671555799848\n",
            "Validation error:  1.1341181\n",
            "------------------------------------------------------------------------------------------------------------------------\n",
            "13 ° --->  Profundidad rnn:  1  | N° neuronas:  [23]  | Recurrent dropout:  0.5133318667774869\n",
            "   ° --->  Optimizador:  <class 'tensorflow.python.keras.optimizer_v2.adam.Adam'>  | F. Activación:  sigmoid  | Entrada:  univariada\n",
            "   ° --->  Inic. Kernel:  glorot_normal  | Learning rate:  0.02826853273472753  | Learn Decay:  0.009332139663727807\n",
            "Validation error:  1.1290437\n",
            "------------------------------------------------------------------------------------------------------------------------\n",
            "14 ° --->  Profundidad rnn:  2  | N° neuronas:  [25, 20]  | Recurrent dropout:  0.4662416929087364\n",
            "   ° --->  Optimizador:  <class 'tensorflow.python.keras.optimizer_v2.adagrad.Adagrad'>  | F. Activación:  sigmoid  | Entrada:  univariada\n",
            "   ° --->  Inic. Kernel:  glorot_normal  | Learning rate:  0.02905678236189321  | Learn Decay:  0.08825108871028892\n",
            "Validation error:  1.136407\n",
            "------------------------------------------------------------------------------------------------------------------------\n",
            "15 ° --->  Profundidad rnn:  3  | N° neuronas:  [25, 30, 38]  | Recurrent dropout:  0.22580728490758606\n",
            "   ° --->  Optimizador:  <class 'tensorflow.python.keras.optimizer_v2.gradient_descent.SGD'>  | F. Activación:  sigmoid  | Entrada:  univariada\n",
            "   ° --->  Inic. Kernel:  he_uniform  | Learning rate:  0.07676569373587583  | Learn Decay:  0.01577173421880563\n",
            "Validation error:  1.1546878\n",
            "------------------------------------------------------------------------------------------------------------------------\n",
            "16 ° --->  Profundidad rnn:  2  | N° neuronas:  [26, 38]  | Recurrent dropout:  0.48761330963501975\n",
            "   ° --->  Optimizador:  <class 'tensorflow.python.keras.optimizer_v2.gradient_descent.SGD'>  | F. Activación:  sigmoid  | Entrada:  univariada\n",
            "   ° --->  Inic. Kernel:  glorot_uniform  | Learning rate:  0.05291716936462952  | Learn Decay:  0.08030686507032697\n",
            "Validation error:  1.1336234\n",
            "------------------------------------------------------------------------------------------------------------------------\n",
            "17 ° --->  Profundidad rnn:  2  | N° neuronas:  [33, 30]  | Recurrent dropout:  0.3671421102192519\n",
            "   ° --->  Optimizador:  <class 'tensorflow.python.keras.optimizer_v2.adam.Adam'>  | F. Activación:  sigmoid  | Entrada:  univariada\n",
            "   ° --->  Inic. Kernel:  glorot_normal  | Learning rate:  0.07982437793226409  | Learn Decay:  0.08531337607597728\n",
            "Validation error:  1.1325833\n",
            "------------------------------------------------------------------------------------------------------------------------\n",
            "18 ° --->  Profundidad rnn:  1  | N° neuronas:  [34]  | Recurrent dropout:  0.33455849419334766\n",
            "   ° --->  Optimizador:  <class 'tensorflow.python.keras.optimizer_v2.gradient_descent.SGD'>  | F. Activación:  sigmoid  | Entrada:  univariada\n",
            "   ° --->  Inic. Kernel:  he_uniform  | Learning rate:  0.09712756471822347  | Learn Decay:  0.09105290342272361\n",
            "Validation error:  1.167345\n",
            "------------------------------------------------------------------------------------------------------------------------\n",
            "19 ° --->  Profundidad rnn:  2  | N° neuronas:  [20, 22]  | Recurrent dropout:  0.5919265892262049\n",
            "   ° --->  Optimizador:  <class 'tensorflow.python.keras.optimizer_v2.adam.Adam'>  | F. Activación:  sigmoid  | Entrada:  univariada\n",
            "   ° --->  Inic. Kernel:  glorot_uniform  | Learning rate:  0.004758301702650591  | Learn Decay:  0.09916975023564412\n",
            "Validation error:  1.1363595\n",
            "------------------------------------------------------------------------------------------------------------------------\n",
            "20 ° --->  Profundidad rnn:  1  | N° neuronas:  [21]  | Recurrent dropout:  0.5233732425924542\n",
            "   ° --->  Optimizador:  <class 'tensorflow.python.keras.optimizer_v2.rmsprop.RMSprop'>  | F. Activación:  sigmoid  | Entrada:  univariada\n",
            "   ° --->  Inic. Kernel:  glorot_uniform  | Learning rate:  0.045585969190986064  | Learn Decay:  0.045519441882875995\n",
            "Validation error:  1.1333859\n",
            "------------------------------------------------------------------------------------------------------------------------\n",
            "21 ° --->  Profundidad rnn:  1  | N° neuronas:  [32]  | Recurrent dropout:  0.617896825111405\n",
            "   ° --->  Optimizador:  <class 'tensorflow.python.keras.optimizer_v2.adam.Adam'>  | F. Activación:  sigmoid  | Entrada:  univariada\n",
            "   ° --->  Inic. Kernel:  glorot_uniform  | Learning rate:  0.041050211023855726  | Learn Decay:  0.06728737186555919\n",
            "Validation error:  1.1358081\n",
            "------------------------------------------------------------------------------------------------------------------------\n",
            "22 ° --->  Profundidad rnn:  2  | N° neuronas:  [32, 22]  | Recurrent dropout:  0.1326405054901018\n",
            "   ° --->  Optimizador:  <class 'tensorflow.python.keras.optimizer_v2.rmsprop.RMSprop'>  | F. Activación:  sigmoid  | Entrada:  univariada\n",
            "   ° --->  Inic. Kernel:  glorot_uniform  | Learning rate:  0.0364900700124677  | Learn Decay:  0.012305690879181994\n",
            "Validation error:  1.1364039\n",
            "------------------------------------------------------------------------------------------------------------------------\n",
            "23 ° --->  Profundidad rnn:  1  | N° neuronas:  [29]  | Recurrent dropout:  0.2233399789355209\n",
            "   ° --->  Optimizador:  <class 'tensorflow.python.keras.optimizer_v2.gradient_descent.SGD'>  | F. Activación:  sigmoid  | Entrada:  univariada\n",
            "   ° --->  Inic. Kernel:  he_uniform  | Learning rate:  0.07159713012888862  | Learn Decay:  0.015639646073920595\n",
            "Validation error:  1.1816534\n",
            "------------------------------------------------------------------------------------------------------------------------\n",
            "24 ° --->  Profundidad rnn:  2  | N° neuronas:  [20, 34]  | Recurrent dropout:  0.006503358712171081\n",
            "   ° --->  Optimizador:  <class 'tensorflow.python.keras.optimizer_v2.adagrad.Adagrad'>  | F. Activación:  sigmoid  | Entrada:  univariada\n",
            "   ° --->  Inic. Kernel:  glorot_normal  | Learning rate:  0.09064822044415514  | Learn Decay:  0.01186083725422695\n",
            "Validation error:  1.1325551\n",
            "------------------------------------------------------------------------------------------------------------------------\n",
            "25 ° --->  Profundidad rnn:  3  | N° neuronas:  [23, 32, 34]  | Recurrent dropout:  0.18066117181390356\n",
            "   ° --->  Optimizador:  <class 'tensorflow.python.keras.optimizer_v2.adagrad.Adagrad'>  | F. Activación:  sigmoid  | Entrada:  univariada\n",
            "   ° --->  Inic. Kernel:  glorot_normal  | Learning rate:  0.045757482669795506  | Learn Decay:  0.04110114903394938\n",
            "Validation error:  1.1358719\n",
            "------------------------------------------------------------------------------------------------------------------------\n",
            "26 ° --->  Profundidad rnn:  2  | N° neuronas:  [34, 32]  | Recurrent dropout:  0.5311111500715624\n",
            "   ° --->  Optimizador:  <class 'tensorflow.python.keras.optimizer_v2.rmsprop.RMSprop'>  | F. Activación:  sigmoid  | Entrada:  univariada\n",
            "   ° --->  Inic. Kernel:  he_uniform  | Learning rate:  0.09121129537033949  | Learn Decay:  0.03642595499070833\n",
            "Validation error:  1.1643277\n",
            "------------------------------------------------------------------------------------------------------------------------\n",
            "27 ° --->  Profundidad rnn:  2  | N° neuronas:  [26, 33]  | Recurrent dropout:  0.4767164599048063\n",
            "   ° --->  Optimizador:  <class 'tensorflow.python.keras.optimizer_v2.adagrad.Adagrad'>  | F. Activación:  sigmoid  | Entrada:  univariada\n",
            "   ° --->  Inic. Kernel:  glorot_normal  | Learning rate:  0.004369872160254542  | Learn Decay:  0.04370017901084402\n",
            "Validation error:  1.1335752\n",
            "------------------------------------------------------------------------------------------------------------------------\n",
            "28 ° --->  Profundidad rnn:  3  | N° neuronas:  [37, 29, 38]  | Recurrent dropout:  0.5809457604905003\n",
            "   ° --->  Optimizador:  <class 'tensorflow.python.keras.optimizer_v2.adam.Adam'>  | F. Activación:  sigmoid  | Entrada:  univariada\n",
            "   ° --->  Inic. Kernel:  he_uniform  | Learning rate:  0.08271850185066243  | Learn Decay:  0.08499177313030681\n",
            "Validation error:  1.1952534\n",
            "------------------------------------------------------------------------------------------------------------------------\n",
            "29 ° --->  Profundidad rnn:  1  | N° neuronas:  [22]  | Recurrent dropout:  0.13036360844811073\n",
            "   ° --->  Optimizador:  <class 'tensorflow.python.keras.optimizer_v2.adam.Adam'>  | F. Activación:  sigmoid  | Entrada:  univariada\n",
            "   ° --->  Inic. Kernel:  he_uniform  | Learning rate:  0.05782310720195583  | Learn Decay:  0.029793655988403354\n",
            "Validation error:  1.1096352\n",
            "------------------------------------------------------------------------------------------------------------------------\n",
            "30 ° --->  Profundidad rnn:  3  | N° neuronas:  [24, 35, 27]  | Recurrent dropout:  0.2289370874052948\n",
            "   ° --->  Optimizador:  <class 'tensorflow.python.keras.optimizer_v2.adagrad.Adagrad'>  | F. Activación:  sigmoid  | Entrada:  univariada\n",
            "   ° --->  Inic. Kernel:  he_uniform  | Learning rate:  0.0880224074438198  | Learn Decay:  0.03718531361416719\n",
            "Validation error:  1.1193168\n",
            "------------------------------------------------------------------------------------------------------------------------\n",
            "31 ° --->  Profundidad rnn:  3  | N° neuronas:  [28, 34, 27]  | Recurrent dropout:  0.33451338739467545\n",
            "   ° --->  Optimizador:  <class 'tensorflow.python.keras.optimizer_v2.adam.Adam'>  | F. Activación:  sigmoid  | Entrada:  univariada\n",
            "   ° --->  Inic. Kernel:  glorot_normal  | Learning rate:  0.07098091035463555  | Learn Decay:  0.09051381438463621\n",
            "Validation error:  1.1343143\n",
            "------------------------------------------------------------------------------------------------------------------------\n",
            "32 ° --->  Profundidad rnn:  3  | N° neuronas:  [37, 30, 32]  | Recurrent dropout:  0.051234026559310926\n",
            "   ° --->  Optimizador:  <class 'tensorflow.python.keras.optimizer_v2.adam.Adam'>  | F. Activación:  sigmoid  | Entrada:  univariada\n",
            "   ° --->  Inic. Kernel:  glorot_normal  | Learning rate:  0.03045742144639149  | Learn Decay:  0.010150028693446608\n",
            "Validation error:  1.1348811\n",
            "------------------------------------------------------------------------------------------------------------------------\n",
            "33 ° --->  Profundidad rnn:  3  | N° neuronas:  [29, 25, 39]  | Recurrent dropout:  0.393062971604859\n",
            "   ° --->  Optimizador:  <class 'tensorflow.python.keras.optimizer_v2.rmsprop.RMSprop'>  | F. Activación:  sigmoid  | Entrada:  univariada\n",
            "   ° --->  Inic. Kernel:  glorot_normal  | Learning rate:  0.08558654116307447  | Learn Decay:  0.086637637746529\n",
            "Validation error:  1.1339825\n",
            "------------------------------------------------------------------------------------------------------------------------\n",
            "34 ° --->  Profundidad rnn:  1  | N° neuronas:  [28]  | Recurrent dropout:  0.3388537460897209\n",
            "   ° --->  Optimizador:  <class 'tensorflow.python.keras.optimizer_v2.rmsprop.RMSprop'>  | F. Activación:  sigmoid  | Entrada:  univariada\n",
            "   ° --->  Inic. Kernel:  glorot_uniform  | Learning rate:  0.036459540429471755  | Learn Decay:  0.0142557641574103\n",
            "Validation error:  1.1354433\n",
            "------------------------------------------------------------------------------------------------------------------------\n",
            "35 ° --->  Profundidad rnn:  3  | N° neuronas:  [34, 38, 21]  | Recurrent dropout:  0.22178259413502546\n",
            "   ° --->  Optimizador:  <class 'tensorflow.python.keras.optimizer_v2.rmsprop.RMSprop'>  | F. Activación:  sigmoid  | Entrada:  univariada\n",
            "   ° --->  Inic. Kernel:  glorot_uniform  | Learning rate:  0.0748823435490101  | Learn Decay:  0.04375310037796676\n",
            "Validation error:  1.1338937\n",
            "------------------------------------------------------------------------------------------------------------------------\n",
            "36 ° --->  Profundidad rnn:  2  | N° neuronas:  [20, 38]  | Recurrent dropout:  0.6184512404798215\n",
            "   ° --->  Optimizador:  <class 'tensorflow.python.keras.optimizer_v2.gradient_descent.SGD'>  | F. Activación:  sigmoid  | Entrada:  univariada\n",
            "   ° --->  Inic. Kernel:  he_uniform  | Learning rate:  0.09753201576943332  | Learn Decay:  0.04326174524529635\n",
            "Validation error:  1.1355443\n",
            "------------------------------------------------------------------------------------------------------------------------\n",
            "37 ° --->  Profundidad rnn:  1  | N° neuronas:  [20]  | Recurrent dropout:  0.6211877934197941\n",
            "   ° --->  Optimizador:  <class 'tensorflow.python.keras.optimizer_v2.rmsprop.RMSprop'>  | F. Activación:  sigmoid  | Entrada:  univariada\n",
            "   ° --->  Inic. Kernel:  glorot_normal  | Learning rate:  0.021705400626138908  | Learn Decay:  0.06401502772664526\n",
            "Validation error:  1.1368757\n",
            "------------------------------------------------------------------------------------------------------------------------\n",
            "38 ° --->  Profundidad rnn:  1  | N° neuronas:  [39]  | Recurrent dropout:  0.47716462653337094\n",
            "   ° --->  Optimizador:  <class 'tensorflow.python.keras.optimizer_v2.adagrad.Adagrad'>  | F. Activación:  sigmoid  | Entrada:  univariada\n",
            "   ° --->  Inic. Kernel:  glorot_normal  | Learning rate:  0.09340211020435053  | Learn Decay:  0.06391725925298947\n",
            "Validation error:  1.133466\n",
            "------------------------------------------------------------------------------------------------------------------------\n",
            "39 ° --->  Profundidad rnn:  1  | N° neuronas:  [39]  | Recurrent dropout:  0.5576654016713878\n",
            "   ° --->  Optimizador:  <class 'tensorflow.python.keras.optimizer_v2.gradient_descent.SGD'>  | F. Activación:  sigmoid  | Entrada:  univariada\n",
            "   ° --->  Inic. Kernel:  glorot_uniform  | Learning rate:  0.024265983270512523  | Learn Decay:  0.03406495138203714\n",
            "Validation error:  1.137479\n",
            "------------------------------------------------------------------------------------------------------------------------\n",
            "40 ° --->  Profundidad rnn:  3  | N° neuronas:  [38, 27, 32]  | Recurrent dropout:  0.5834937660408368\n",
            "   ° --->  Optimizador:  <class 'tensorflow.python.keras.optimizer_v2.gradient_descent.SGD'>  | F. Activación:  sigmoid  | Entrada:  univariada\n",
            "   ° --->  Inic. Kernel:  glorot_normal  | Learning rate:  0.05053429044798051  | Learn Decay:  0.06783730694197844\n",
            "Validation error:  1.1345209\n",
            "------------------------------------------------------------------------------------------------------------------------\n",
            "41 ° --->  Profundidad rnn:  1  | N° neuronas:  [23]  | Recurrent dropout:  0.0789325357707039\n",
            "   ° --->  Optimizador:  <class 'tensorflow.python.keras.optimizer_v2.rmsprop.RMSprop'>  | F. Activación:  sigmoid  | Entrada:  univariada\n",
            "   ° --->  Inic. Kernel:  glorot_normal  | Learning rate:  0.06999588386605446  | Learn Decay:  0.058293540023815274\n",
            "Validation error:  1.1338319\n",
            "------------------------------------------------------------------------------------------------------------------------\n",
            "42 ° --->  Profundidad rnn:  3  | N° neuronas:  [23, 27, 35]  | Recurrent dropout:  0.28005279389560594\n",
            "   ° --->  Optimizador:  <class 'tensorflow.python.keras.optimizer_v2.gradient_descent.SGD'>  | F. Activación:  sigmoid  | Entrada:  univariada\n",
            "   ° --->  Inic. Kernel:  glorot_uniform  | Learning rate:  0.007191742084787241  | Learn Decay:  0.038961288770836475\n",
            "Validation error:  1.1353639\n",
            "------------------------------------------------------------------------------------------------------------------------\n",
            "43 ° --->  Profundidad rnn:  1  | N° neuronas:  [24]  | Recurrent dropout:  0.09256965753196689\n",
            "   ° --->  Optimizador:  <class 'tensorflow.python.keras.optimizer_v2.gradient_descent.SGD'>  | F. Activación:  sigmoid  | Entrada:  univariada\n",
            "   ° --->  Inic. Kernel:  glorot_normal  | Learning rate:  0.07920197257550737  | Learn Decay:  0.06986765918339916\n",
            "Validation error:  1.1329973\n",
            "------------------------------------------------------------------------------------------------------------------------\n",
            "44 ° --->  Profundidad rnn:  1  | N° neuronas:  [33]  | Recurrent dropout:  0.13765943350142534\n",
            "   ° --->  Optimizador:  <class 'tensorflow.python.keras.optimizer_v2.rmsprop.RMSprop'>  | F. Activación:  sigmoid  | Entrada:  univariada\n",
            "   ° --->  Inic. Kernel:  glorot_uniform  | Learning rate:  0.04292688943833366  | Learn Decay:  0.0012846161043361523\n",
            "Validation error:  1.1318232\n",
            "------------------------------------------------------------------------------------------------------------------------\n",
            "45 ° --->  Profundidad rnn:  1  | N° neuronas:  [26]  | Recurrent dropout:  0.0333358213589779\n",
            "   ° --->  Optimizador:  <class 'tensorflow.python.keras.optimizer_v2.gradient_descent.SGD'>  | F. Activación:  sigmoid  | Entrada:  univariada\n",
            "   ° --->  Inic. Kernel:  he_uniform  | Learning rate:  0.07098494311513955  | Learn Decay:  0.08573465071430394\n",
            "Validation error:  1.1282337\n",
            "------------------------------------------------------------------------------------------------------------------------\n",
            "46 ° --->  Profundidad rnn:  3  | N° neuronas:  [37, 25, 39]  | Recurrent dropout:  0.6829784086182304\n",
            "   ° --->  Optimizador:  <class 'tensorflow.python.keras.optimizer_v2.rmsprop.RMSprop'>  | F. Activación:  sigmoid  | Entrada:  univariada\n",
            "   ° --->  Inic. Kernel:  glorot_uniform  | Learning rate:  0.05754630681004852  | Learn Decay:  0.05024209857300588\n",
            "Validation error:  1.1372081\n",
            "------------------------------------------------------------------------------------------------------------------------\n",
            "47 ° --->  Profundidad rnn:  2  | N° neuronas:  [20, 20]  | Recurrent dropout:  0.6130977431938984\n",
            "   ° --->  Optimizador:  <class 'tensorflow.python.keras.optimizer_v2.gradient_descent.SGD'>  | F. Activación:  sigmoid  | Entrada:  univariada\n",
            "   ° --->  Inic. Kernel:  glorot_uniform  | Learning rate:  0.03488432877229115  | Learn Decay:  0.06540999458150575\n",
            "Validation error:  1.1316408\n",
            "------------------------------------------------------------------------------------------------------------------------\n",
            "48 ° --->  Profundidad rnn:  3  | N° neuronas:  [32, 20, 21]  | Recurrent dropout:  0.2622622048286267\n",
            "   ° --->  Optimizador:  <class 'tensorflow.python.keras.optimizer_v2.adagrad.Adagrad'>  | F. Activación:  sigmoid  | Entrada:  univariada\n",
            "   ° --->  Inic. Kernel:  he_uniform  | Learning rate:  0.07008674280461996  | Learn Decay:  0.006012652867819043\n",
            "Validation error:  1.1395384\n",
            "------------------------------------------------------------------------------------------------------------------------\n",
            "49 ° --->  Profundidad rnn:  1  | N° neuronas:  [30]  | Recurrent dropout:  0.3504314661306213\n",
            "   ° --->  Optimizador:  <class 'tensorflow.python.keras.optimizer_v2.adam.Adam'>  | F. Activación:  sigmoid  | Entrada:  univariada\n",
            "   ° --->  Inic. Kernel:  he_uniform  | Learning rate:  0.05072608823947903  | Learn Decay:  0.03516657784263323\n",
            "Validation error:  1.0702878\n",
            "------------------------------------------------------------------------------------------------------------------------\n",
            "50 ° --->  Profundidad rnn:  1  | N° neuronas:  [21]  | Recurrent dropout:  0.6605272742854261\n",
            "   ° --->  Optimizador:  <class 'tensorflow.python.keras.optimizer_v2.adam.Adam'>  | F. Activación:  sigmoid  | Entrada:  univariada\n",
            "   ° --->  Inic. Kernel:  he_uniform  | Learning rate:  0.06556860096845066  | Learn Decay:  0.03844749634351066\n",
            "Validation error:  1.1863135\n",
            "------------------------------------------------------------------------------------------------------------------------\n",
            "51 ° --->  Profundidad rnn:  2  | N° neuronas:  [29, 25]  | Recurrent dropout:  0.3506100649150675\n",
            "   ° --->  Optimizador:  <class 'tensorflow.python.keras.optimizer_v2.rmsprop.RMSprop'>  | F. Activación:  sigmoid  | Entrada:  univariada\n",
            "   ° --->  Inic. Kernel:  glorot_uniform  | Learning rate:  0.007412006732782565  | Learn Decay:  0.08789426607571726\n",
            "Validation error:  1.1351548\n",
            "------------------------------------------------------------------------------------------------------------------------\n",
            "52 ° --->  Profundidad rnn:  1  | N° neuronas:  [23]  | Recurrent dropout:  0.4488029151300037\n",
            "   ° --->  Optimizador:  <class 'tensorflow.python.keras.optimizer_v2.gradient_descent.SGD'>  | F. Activación:  sigmoid  | Entrada:  univariada\n",
            "   ° --->  Inic. Kernel:  he_uniform  | Learning rate:  0.03153099376836361  | Learn Decay:  0.07812219949309553\n",
            "Validation error:  1.1024511\n",
            "------------------------------------------------------------------------------------------------------------------------\n",
            "53 ° --->  Profundidad rnn:  2  | N° neuronas:  [30, 22]  | Recurrent dropout:  0.26687589263127126\n",
            "   ° --->  Optimizador:  <class 'tensorflow.python.keras.optimizer_v2.rmsprop.RMSprop'>  | F. Activación:  sigmoid  | Entrada:  univariada\n",
            "   ° --->  Inic. Kernel:  glorot_normal  | Learning rate:  0.03059892066067671  | Learn Decay:  0.038580308279277914\n",
            "Validation error:  1.1359942\n",
            "------------------------------------------------------------------------------------------------------------------------\n",
            "54 ° --->  Profundidad rnn:  1  | N° neuronas:  [37]  | Recurrent dropout:  0.4378277461942465\n",
            "   ° --->  Optimizador:  <class 'tensorflow.python.keras.optimizer_v2.gradient_descent.SGD'>  | F. Activación:  sigmoid  | Entrada:  univariada\n",
            "   ° --->  Inic. Kernel:  glorot_uniform  | Learning rate:  0.056015874312223664  | Learn Decay:  0.024646129766063802\n",
            "Validation error:  1.1335262\n",
            "------------------------------------------------------------------------------------------------------------------------\n",
            "55 ° --->  Profundidad rnn:  2  | N° neuronas:  [28, 26]  | Recurrent dropout:  0.40434862372958963\n",
            "   ° --->  Optimizador:  <class 'tensorflow.python.keras.optimizer_v2.adagrad.Adagrad'>  | F. Activación:  sigmoid  | Entrada:  univariada\n",
            "   ° --->  Inic. Kernel:  he_uniform  | Learning rate:  0.021806492497014746  | Learn Decay:  0.04822892427863997\n",
            "Validation error:  1.1425325\n",
            "------------------------------------------------------------------------------------------------------------------------\n",
            "56 ° --->  Profundidad rnn:  2  | N° neuronas:  [29, 24]  | Recurrent dropout:  0.3813733401070478\n",
            "   ° --->  Optimizador:  <class 'tensorflow.python.keras.optimizer_v2.rmsprop.RMSprop'>  | F. Activación:  sigmoid  | Entrada:  univariada\n",
            "   ° --->  Inic. Kernel:  glorot_normal  | Learning rate:  0.06862949092734864  | Learn Decay:  0.0016908731904338513\n",
            "Validation error:  1.1361545\n",
            "------------------------------------------------------------------------------------------------------------------------\n",
            "57 ° --->  Profundidad rnn:  1  | N° neuronas:  [20]  | Recurrent dropout:  0.21061562741961706\n",
            "   ° --->  Optimizador:  <class 'tensorflow.python.keras.optimizer_v2.gradient_descent.SGD'>  | F. Activación:  sigmoid  | Entrada:  univariada\n",
            "   ° --->  Inic. Kernel:  glorot_uniform  | Learning rate:  0.021075542563035867  | Learn Decay:  0.08380099490435064\n",
            "Validation error:  1.1307201\n",
            "------------------------------------------------------------------------------------------------------------------------\n",
            "58 ° --->  Profundidad rnn:  2  | N° neuronas:  [33, 30]  | Recurrent dropout:  0.5466260076349371\n",
            "   ° --->  Optimizador:  <class 'tensorflow.python.keras.optimizer_v2.rmsprop.RMSprop'>  | F. Activación:  sigmoid  | Entrada:  univariada\n",
            "   ° --->  Inic. Kernel:  glorot_uniform  | Learning rate:  0.03822095777066929  | Learn Decay:  0.012063530582936677\n",
            "Validation error:  1.1307099\n",
            "------------------------------------------------------------------------------------------------------------------------\n",
            "59 ° --->  Profundidad rnn:  2  | N° neuronas:  [25, 39]  | Recurrent dropout:  0.4203638912330373\n",
            "   ° --->  Optimizador:  <class 'tensorflow.python.keras.optimizer_v2.rmsprop.RMSprop'>  | F. Activación:  sigmoid  | Entrada:  univariada\n",
            "   ° --->  Inic. Kernel:  he_uniform  | Learning rate:  0.010633692569837079  | Learn Decay:  0.017522779913436103\n",
            "Validation error:  1.1397951\n",
            "------------------------------------------------------------------------------------------------------------------------\n",
            "60 ° --->  Profundidad rnn:  2  | N° neuronas:  [36, 27]  | Recurrent dropout:  0.5221532890225924\n",
            "   ° --->  Optimizador:  <class 'tensorflow.python.keras.optimizer_v2.adagrad.Adagrad'>  | F. Activación:  sigmoid  | Entrada:  univariada\n",
            "   ° --->  Inic. Kernel:  glorot_normal  | Learning rate:  0.04584986185390793  | Learn Decay:  0.07530980549040621\n",
            "Validation error:  1.1378118\n",
            "------------------------------------------------------------------------------------------------------------------------\n",
            "61 ° --->  Profundidad rnn:  3  | N° neuronas:  [39, 25, 30]  | Recurrent dropout:  0.211783648424396\n",
            "   ° --->  Optimizador:  <class 'tensorflow.python.keras.optimizer_v2.adam.Adam'>  | F. Activación:  sigmoid  | Entrada:  univariada\n",
            "   ° --->  Inic. Kernel:  glorot_normal  | Learning rate:  0.05894406823942513  | Learn Decay:  0.0013154639132838834\n",
            "Validation error:  1.1337093\n",
            "------------------------------------------------------------------------------------------------------------------------\n",
            "62 ° --->  Profundidad rnn:  1  | N° neuronas:  [20]  | Recurrent dropout:  0.6054263089675631\n",
            "   ° --->  Optimizador:  <class 'tensorflow.python.keras.optimizer_v2.gradient_descent.SGD'>  | F. Activación:  sigmoid  | Entrada:  univariada\n",
            "   ° --->  Inic. Kernel:  glorot_uniform  | Learning rate:  0.025744265376172398  | Learn Decay:  0.09299084424210423\n",
            "Validation error:  1.1370579\n",
            "------------------------------------------------------------------------------------------------------------------------\n",
            "63 ° --->  Profundidad rnn:  2  | N° neuronas:  [25, 39]  | Recurrent dropout:  0.4012865186353505\n",
            "   ° --->  Optimizador:  <class 'tensorflow.python.keras.optimizer_v2.adam.Adam'>  | F. Activación:  sigmoid  | Entrada:  univariada\n",
            "   ° --->  Inic. Kernel:  glorot_uniform  | Learning rate:  0.09194178670455155  | Learn Decay:  0.03984994246297822\n",
            "Validation error:  1.1319345\n",
            "------------------------------------------------------------------------------------------------------------------------\n",
            "64 ° --->  Profundidad rnn:  2  | N° neuronas:  [38, 30]  | Recurrent dropout:  0.3679056865056329\n",
            "   ° --->  Optimizador:  <class 'tensorflow.python.keras.optimizer_v2.adam.Adam'>  | F. Activación:  sigmoid  | Entrada:  univariada\n",
            "   ° --->  Inic. Kernel:  glorot_normal  | Learning rate:  0.09167363593367003  | Learn Decay:  0.09608398467927766\n",
            "Validation error:  1.1354476\n",
            "------------------------------------------------------------------------------------------------------------------------\n",
            "65 ° --->  Profundidad rnn:  2  | N° neuronas:  [29, 34]  | Recurrent dropout:  0.4115236217338101\n",
            "   ° --->  Optimizador:  <class 'tensorflow.python.keras.optimizer_v2.gradient_descent.SGD'>  | F. Activación:  sigmoid  | Entrada:  univariada\n",
            "   ° --->  Inic. Kernel:  glorot_normal  | Learning rate:  0.09074244472714538  | Learn Decay:  0.06291556025122026\n",
            "Validation error:  1.1344373\n",
            "------------------------------------------------------------------------------------------------------------------------\n",
            "66 ° --->  Profundidad rnn:  1  | N° neuronas:  [24]  | Recurrent dropout:  0.6218350358552595\n",
            "   ° --->  Optimizador:  <class 'tensorflow.python.keras.optimizer_v2.adam.Adam'>  | F. Activación:  sigmoid  | Entrada:  univariada\n",
            "   ° --->  Inic. Kernel:  glorot_normal  | Learning rate:  0.09915330203044379  | Learn Decay:  0.091833850868139\n",
            "Validation error:  1.1354953\n",
            "------------------------------------------------------------------------------------------------------------------------\n",
            "67 ° --->  Profundidad rnn:  1  | N° neuronas:  [31]  | Recurrent dropout:  0.6376489525067572\n",
            "   ° --->  Optimizador:  <class 'tensorflow.python.keras.optimizer_v2.adam.Adam'>  | F. Activación:  sigmoid  | Entrada:  univariada\n",
            "   ° --->  Inic. Kernel:  glorot_uniform  | Learning rate:  0.06230008706194354  | Learn Decay:  0.09299910716862515\n",
            "Validation error:  1.1313285\n",
            "------------------------------------------------------------------------------------------------------------------------\n",
            "68 ° --->  Profundidad rnn:  1  | N° neuronas:  [28]  | Recurrent dropout:  0.17603629187435882\n",
            "   ° --->  Optimizador:  <class 'tensorflow.python.keras.optimizer_v2.rmsprop.RMSprop'>  | F. Activación:  sigmoid  | Entrada:  univariada\n",
            "   ° --->  Inic. Kernel:  glorot_uniform  | Learning rate:  0.0016786442406656605  | Learn Decay:  0.05835435274669992\n",
            "Validation error:  1.1335912\n",
            "------------------------------------------------------------------------------------------------------------------------\n",
            "69 ° --->  Profundidad rnn:  1  | N° neuronas:  [25]  | Recurrent dropout:  0.5195977296932024\n",
            "   ° --->  Optimizador:  <class 'tensorflow.python.keras.optimizer_v2.adam.Adam'>  | F. Activación:  sigmoid  | Entrada:  univariada\n",
            "   ° --->  Inic. Kernel:  glorot_normal  | Learning rate:  0.042213041183194355  | Learn Decay:  0.0023733657241639737\n",
            "Validation error:  1.1387628\n",
            "------------------------------------------------------------------------------------------------------------------------\n",
            "70 ° --->  Profundidad rnn:  1  | N° neuronas:  [30]  | Recurrent dropout:  0.6630812030148033\n",
            "   ° --->  Optimizador:  <class 'tensorflow.python.keras.optimizer_v2.adagrad.Adagrad'>  | F. Activación:  sigmoid  | Entrada:  univariada\n",
            "   ° --->  Inic. Kernel:  he_uniform  | Learning rate:  0.014748265059907737  | Learn Decay:  0.023599970299497834\n",
            "Validation error:  1.1489029\n",
            "------------------------------------------------------------------------------------------------------------------------\n",
            "71 ° --->  Profundidad rnn:  2  | N° neuronas:  [32, 37]  | Recurrent dropout:  0.06500037107907602\n",
            "   ° --->  Optimizador:  <class 'tensorflow.python.keras.optimizer_v2.adagrad.Adagrad'>  | F. Activación:  sigmoid  | Entrada:  univariada\n",
            "   ° --->  Inic. Kernel:  he_uniform  | Learning rate:  0.06354576227630618  | Learn Decay:  0.03160623369254008\n",
            "Validation error:  1.1083293\n",
            "------------------------------------------------------------------------------------------------------------------------\n",
            "72 ° --->  Profundidad rnn:  2  | N° neuronas:  [22, 32]  | Recurrent dropout:  0.6586354768436198\n",
            "   ° --->  Optimizador:  <class 'tensorflow.python.keras.optimizer_v2.gradient_descent.SGD'>  | F. Activación:  sigmoid  | Entrada:  univariada\n",
            "   ° --->  Inic. Kernel:  glorot_uniform  | Learning rate:  0.09612447148411553  | Learn Decay:  0.09201442914786945\n",
            "Validation error:  1.1321781\n",
            "------------------------------------------------------------------------------------------------------------------------\n",
            "73 ° --->  Profundidad rnn:  2  | N° neuronas:  [27, 38]  | Recurrent dropout:  0.0948498334507438\n",
            "   ° --->  Optimizador:  <class 'tensorflow.python.keras.optimizer_v2.gradient_descent.SGD'>  | F. Activación:  sigmoid  | Entrada:  univariada\n",
            "   ° --->  Inic. Kernel:  glorot_normal  | Learning rate:  0.004891793782155126  | Learn Decay:  0.05161941062327171\n",
            "Validation error:  1.1372014\n",
            "------------------------------------------------------------------------------------------------------------------------\n",
            "74 ° --->  Profundidad rnn:  2  | N° neuronas:  [31, 32]  | Recurrent dropout:  0.5183732144879982\n",
            "   ° --->  Optimizador:  <class 'tensorflow.python.keras.optimizer_v2.rmsprop.RMSprop'>  | F. Activación:  sigmoid  | Entrada:  univariada\n",
            "   ° --->  Inic. Kernel:  glorot_normal  | Learning rate:  0.016159843332808618  | Learn Decay:  0.04668238085597285\n",
            "Validation error:  1.1335604\n",
            "------------------------------------------------------------------------------------------------------------------------\n",
            "75 ° --->  Profundidad rnn:  1  | N° neuronas:  [34]  | Recurrent dropout:  0.43756038739947883\n",
            "   ° --->  Optimizador:  <class 'tensorflow.python.keras.optimizer_v2.adagrad.Adagrad'>  | F. Activación:  sigmoid  | Entrada:  univariada\n",
            "   ° --->  Inic. Kernel:  glorot_normal  | Learning rate:  0.07420565756809562  | Learn Decay:  0.05559780904006384\n",
            "Validation error:  1.1260786\n",
            "------------------------------------------------------------------------------------------------------------------------\n",
            "76 ° --->  Profundidad rnn:  1  | N° neuronas:  [24]  | Recurrent dropout:  0.06175423741217015\n",
            "   ° --->  Optimizador:  <class 'tensorflow.python.keras.optimizer_v2.adagrad.Adagrad'>  | F. Activación:  sigmoid  | Entrada:  univariada\n",
            "   ° --->  Inic. Kernel:  glorot_normal  | Learning rate:  0.04366579892035296  | Learn Decay:  0.03453356277760952\n",
            "Validation error:  1.1379267\n",
            "------------------------------------------------------------------------------------------------------------------------\n",
            "77 ° --->  Profundidad rnn:  2  | N° neuronas:  [30, 38]  | Recurrent dropout:  0.5003073461861495\n",
            "   ° --->  Optimizador:  <class 'tensorflow.python.keras.optimizer_v2.rmsprop.RMSprop'>  | F. Activación:  sigmoid  | Entrada:  univariada\n",
            "   ° --->  Inic. Kernel:  glorot_uniform  | Learning rate:  0.038417121680238725  | Learn Decay:  0.04762324448356273\n",
            "Validation error:  1.1348413\n",
            "------------------------------------------------------------------------------------------------------------------------\n",
            "78 ° --->  Profundidad rnn:  3  | N° neuronas:  [35, 32, 36]  | Recurrent dropout:  0.1338688589191255\n",
            "   ° --->  Optimizador:  <class 'tensorflow.python.keras.optimizer_v2.adam.Adam'>  | F. Activación:  sigmoid  | Entrada:  univariada\n",
            "   ° --->  Inic. Kernel:  glorot_normal  | Learning rate:  0.0797854411024626  | Learn Decay:  0.08636463799143101\n",
            "Validation error:  1.1354884\n",
            "------------------------------------------------------------------------------------------------------------------------\n",
            "79 ° --->  Profundidad rnn:  1  | N° neuronas:  [29]  | Recurrent dropout:  0.36299550982222323\n",
            "   ° --->  Optimizador:  <class 'tensorflow.python.keras.optimizer_v2.adam.Adam'>  | F. Activación:  sigmoid  | Entrada:  univariada\n",
            "   ° --->  Inic. Kernel:  glorot_uniform  | Learning rate:  0.07486773061365927  | Learn Decay:  0.022261598897062078\n",
            "Validation error:  1.1369369\n",
            "------------------------------------------------------------------------------------------------------------------------\n",
            "80 ° --->  Profundidad rnn:  1  | N° neuronas:  [22]  | Recurrent dropout:  0.19194737244913374\n",
            "   ° --->  Optimizador:  <class 'tensorflow.python.keras.optimizer_v2.rmsprop.RMSprop'>  | F. Activación:  sigmoid  | Entrada:  univariada\n",
            "   ° --->  Inic. Kernel:  glorot_normal  | Learning rate:  0.06556598411937495  | Learn Decay:  0.06875937361540722\n",
            "Validation error:  1.1316208\n",
            "------------------------------------------------------------------------------------------------------------------------\n",
            "81 ° --->  Profundidad rnn:  2  | N° neuronas:  [35, 24]  | Recurrent dropout:  0.37916282757173936\n",
            "   ° --->  Optimizador:  <class 'tensorflow.python.keras.optimizer_v2.rmsprop.RMSprop'>  | F. Activación:  sigmoid  | Entrada:  univariada\n",
            "   ° --->  Inic. Kernel:  glorot_uniform  | Learning rate:  0.03534556474582439  | Learn Decay:  0.08947309532394798\n",
            "Validation error:  1.134709\n",
            "------------------------------------------------------------------------------------------------------------------------\n",
            "82 ° --->  Profundidad rnn:  2  | N° neuronas:  [31, 34]  | Recurrent dropout:  0.17556921287886773\n",
            "   ° --->  Optimizador:  <class 'tensorflow.python.keras.optimizer_v2.adam.Adam'>  | F. Activación:  sigmoid  | Entrada:  univariada\n",
            "   ° --->  Inic. Kernel:  he_uniform  | Learning rate:  0.007812551306844601  | Learn Decay:  0.041506790100947315\n",
            "Validation error:  1.156764\n",
            "------------------------------------------------------------------------------------------------------------------------\n",
            "83 ° --->  Profundidad rnn:  3  | N° neuronas:  [27, 27, 39]  | Recurrent dropout:  0.32717688207323864\n",
            "   ° --->  Optimizador:  <class 'tensorflow.python.keras.optimizer_v2.adagrad.Adagrad'>  | F. Activación:  sigmoid  | Entrada:  univariada\n",
            "   ° --->  Inic. Kernel:  glorot_uniform  | Learning rate:  0.028183394109471734  | Learn Decay:  0.08065172608755686\n",
            "Validation error:  1.1334393\n",
            "------------------------------------------------------------------------------------------------------------------------\n",
            "84 ° --->  Profundidad rnn:  1  | N° neuronas:  [36]  | Recurrent dropout:  0.284635157289759\n",
            "   ° --->  Optimizador:  <class 'tensorflow.python.keras.optimizer_v2.rmsprop.RMSprop'>  | F. Activación:  sigmoid  | Entrada:  univariada\n",
            "   ° --->  Inic. Kernel:  glorot_normal  | Learning rate:  0.0122038231810759  | Learn Decay:  0.015215697509181588\n",
            "Validation error:  1.1383835\n",
            "------------------------------------------------------------------------------------------------------------------------\n",
            "85 ° --->  Profundidad rnn:  2  | N° neuronas:  [34, 33]  | Recurrent dropout:  0.004822189306194968\n",
            "   ° --->  Optimizador:  <class 'tensorflow.python.keras.optimizer_v2.gradient_descent.SGD'>  | F. Activación:  sigmoid  | Entrada:  univariada\n",
            "   ° --->  Inic. Kernel:  he_uniform  | Learning rate:  0.07204509705068558  | Learn Decay:  0.08930278447197944\n",
            "Validation error:  1.107027\n",
            "------------------------------------------------------------------------------------------------------------------------\n",
            "86 ° --->  Profundidad rnn:  2  | N° neuronas:  [35, 30]  | Recurrent dropout:  0.45728677663012074\n",
            "   ° --->  Optimizador:  <class 'tensorflow.python.keras.optimizer_v2.adam.Adam'>  | F. Activación:  sigmoid  | Entrada:  univariada\n",
            "   ° --->  Inic. Kernel:  he_uniform  | Learning rate:  0.002009580806910281  | Learn Decay:  0.00315889280203775\n",
            "Validation error:  1.1307786\n",
            "------------------------------------------------------------------------------------------------------------------------\n",
            "87 ° --->  Profundidad rnn:  1  | N° neuronas:  [30]  | Recurrent dropout:  0.0006640004135080479\n",
            "   ° --->  Optimizador:  <class 'tensorflow.python.keras.optimizer_v2.adam.Adam'>  | F. Activación:  sigmoid  | Entrada:  univariada\n",
            "   ° --->  Inic. Kernel:  he_uniform  | Learning rate:  0.06466097615096489  | Learn Decay:  0.057222085821492574\n",
            "Validation error:  1.1473296\n",
            "------------------------------------------------------------------------------------------------------------------------\n",
            "88 ° --->  Profundidad rnn:  3  | N° neuronas:  [28, 30, 21]  | Recurrent dropout:  0.6233991554824144\n",
            "   ° --->  Optimizador:  <class 'tensorflow.python.keras.optimizer_v2.adam.Adam'>  | F. Activación:  sigmoid  | Entrada:  univariada\n",
            "   ° --->  Inic. Kernel:  glorot_normal  | Learning rate:  0.002505340476772583  | Learn Decay:  0.05642611425553399\n",
            "Validation error:  1.1346716\n",
            "------------------------------------------------------------------------------------------------------------------------\n",
            "89 ° --->  Profundidad rnn:  2  | N° neuronas:  [36, 20]  | Recurrent dropout:  0.648059890499089\n",
            "   ° --->  Optimizador:  <class 'tensorflow.python.keras.optimizer_v2.adam.Adam'>  | F. Activación:  sigmoid  | Entrada:  univariada\n",
            "   ° --->  Inic. Kernel:  he_uniform  | Learning rate:  0.016524894282894532  | Learn Decay:  0.0678306926157174\n",
            "Validation error:  1.1730076\n",
            "------------------------------------------------------------------------------------------------------------------------\n",
            "90 ° --->  Profundidad rnn:  2  | N° neuronas:  [26, 35]  | Recurrent dropout:  0.09112507587499621\n",
            "   ° --->  Optimizador:  <class 'tensorflow.python.keras.optimizer_v2.adagrad.Adagrad'>  | F. Activación:  sigmoid  | Entrada:  univariada\n",
            "   ° --->  Inic. Kernel:  he_uniform  | Learning rate:  0.08098319298562025  | Learn Decay:  0.057059080254623334\n",
            "Validation error:  1.1488776\n",
            "------------------------------------------------------------------------------------------------------------------------\n",
            "91 ° --->  Profundidad rnn:  3  | N° neuronas:  [27, 33, 37]  | Recurrent dropout:  0.3593123515655048\n",
            "   ° --->  Optimizador:  <class 'tensorflow.python.keras.optimizer_v2.gradient_descent.SGD'>  | F. Activación:  sigmoid  | Entrada:  univariada\n",
            "   ° --->  Inic. Kernel:  he_uniform  | Learning rate:  0.05024787717725221  | Learn Decay:  0.08679575489849868\n",
            "Validation error:  1.1567413\n",
            "------------------------------------------------------------------------------------------------------------------------\n",
            "92 ° --->  Profundidad rnn:  2  | N° neuronas:  [26, 27]  | Recurrent dropout:  0.5890930865311885\n",
            "   ° --->  Optimizador:  <class 'tensorflow.python.keras.optimizer_v2.adagrad.Adagrad'>  | F. Activación:  sigmoid  | Entrada:  univariada\n",
            "   ° --->  Inic. Kernel:  he_uniform  | Learning rate:  0.07792820229907599  | Learn Decay:  0.09937849822770141\n",
            "Validation error:  1.0857971\n",
            "------------------------------------------------------------------------------------------------------------------------\n",
            "93 ° --->  Profundidad rnn:  1  | N° neuronas:  [24]  | Recurrent dropout:  0.18582613608011478\n",
            "   ° --->  Optimizador:  <class 'tensorflow.python.keras.optimizer_v2.adam.Adam'>  | F. Activación:  sigmoid  | Entrada:  univariada\n",
            "   ° --->  Inic. Kernel:  he_uniform  | Learning rate:  0.02520870802600169  | Learn Decay:  0.0752465352324492\n",
            "Validation error:  1.1382223\n",
            "------------------------------------------------------------------------------------------------------------------------\n",
            "94 ° --->  Profundidad rnn:  3  | N° neuronas:  [32, 30, 25]  | Recurrent dropout:  0.45146098094828596\n",
            "   ° --->  Optimizador:  <class 'tensorflow.python.keras.optimizer_v2.gradient_descent.SGD'>  | F. Activación:  sigmoid  | Entrada:  univariada\n",
            "   ° --->  Inic. Kernel:  he_uniform  | Learning rate:  0.01687426820353241  | Learn Decay:  0.024034571069307363\n",
            "Validation error:  1.1671046\n",
            "------------------------------------------------------------------------------------------------------------------------\n",
            "95 ° --->  Profundidad rnn:  3  | N° neuronas:  [30, 31, 25]  | Recurrent dropout:  0.2671662929022697\n",
            "   ° --->  Optimizador:  <class 'tensorflow.python.keras.optimizer_v2.rmsprop.RMSprop'>  | F. Activación:  sigmoid  | Entrada:  univariada\n",
            "   ° --->  Inic. Kernel:  he_uniform  | Learning rate:  0.08545308297994585  | Learn Decay:  0.0634870436568402\n",
            "Validation error:  1.1290865\n",
            "------------------------------------------------------------------------------------------------------------------------\n",
            "96 ° --->  Profundidad rnn:  3  | N° neuronas:  [38, 31, 31]  | Recurrent dropout:  0.45720277064812154\n",
            "   ° --->  Optimizador:  <class 'tensorflow.python.keras.optimizer_v2.rmsprop.RMSprop'>  | F. Activación:  sigmoid  | Entrada:  univariada\n",
            "   ° --->  Inic. Kernel:  glorot_normal  | Learning rate:  0.027063869719827376  | Learn Decay:  0.01996225107336494\n",
            "Validation error:  1.1343052\n",
            "------------------------------------------------------------------------------------------------------------------------\n",
            "97 ° --->  Profundidad rnn:  2  | N° neuronas:  [32, 21]  | Recurrent dropout:  0.04625984062521077\n",
            "   ° --->  Optimizador:  <class 'tensorflow.python.keras.optimizer_v2.adagrad.Adagrad'>  | F. Activación:  sigmoid  | Entrada:  univariada\n",
            "   ° --->  Inic. Kernel:  glorot_uniform  | Learning rate:  0.06785747569104748  | Learn Decay:  0.05020925820854165\n",
            "Validation error:  1.1382192\n",
            "------------------------------------------------------------------------------------------------------------------------\n",
            "98 ° --->  Profundidad rnn:  3  | N° neuronas:  [31, 38, 20]  | Recurrent dropout:  0.2023932927643972\n",
            "   ° --->  Optimizador:  <class 'tensorflow.python.keras.optimizer_v2.rmsprop.RMSprop'>  | F. Activación:  sigmoid  | Entrada:  univariada\n",
            "   ° --->  Inic. Kernel:  glorot_uniform  | Learning rate:  0.007916696088631674  | Learn Decay:  0.08665345084705081\n",
            "Validation error:  1.134385\n",
            "------------------------------------------------------------------------------------------------------------------------\n",
            "99 ° --->  Profundidad rnn:  1  | N° neuronas:  [34]  | Recurrent dropout:  0.19757950308791944\n",
            "   ° --->  Optimizador:  <class 'tensorflow.python.keras.optimizer_v2.rmsprop.RMSprop'>  | F. Activación:  sigmoid  | Entrada:  univariada\n",
            "   ° --->  Inic. Kernel:  glorot_normal  | Learning rate:  0.04909809033240914  | Learn Decay:  0.0184019569907057\n",
            "Validation error:  1.1315235\n",
            "------------------------------------------------------------------------------------------------------------------------\n",
            "100 ° --->  Profundidad rnn:  3  | N° neuronas:  [23, 24, 24]  | Recurrent dropout:  0.5196017272449427\n",
            "   ° --->  Optimizador:  <class 'tensorflow.python.keras.optimizer_v2.adam.Adam'>  | F. Activación:  sigmoid  | Entrada:  univariada\n",
            "   ° --->  Inic. Kernel:  glorot_normal  | Learning rate:  0.0019774700754035175  | Learn Decay:  0.06963673703824734\n",
            "Validation error:  1.1354935\n",
            "------------------------------------------------------------------------------------------------------------------------\n",
            "La mejor arquitectura se encuentra en  49\n"
          ],
          "name": "stdout"
        }
      ]
    },
    {
      "cell_type": "markdown",
      "metadata": {
        "id": "Wtt8Z3pULkGN"
      },
      "source": [
        "**Respuestas**\r\n",
        "\r\n",
        "i) ¿Qué alternativas al Random Search existen? Nombre al menos una.\r\n",
        "\r\n",
        "Las alternarnativas que existen son Babysitting (o prueba y error), Grid Search y Bayesian Optimization.\r\n",
        "\r\n",
        "* Babysitting (o prueba y error): Consiste en ir a mano ajustando los hiperparámetros a través de experimentos que permitan evaluar como mejora el desempeño al setear determinados valores. Esto se realiza hasta que la persona no tenga más tiempo para seguir probando.\r\n",
        " \r\n",
        "* Grid Search: A diferencia de Random Search, Grid Search evalua y setea los hiperparámetros de manera ordenada y no aleatoria.\r\n",
        "\r\n",
        "ii) ¿Qué hace el método recurrent dropout?\r\n",
        "\r\n",
        "El método recurrent dropout descarta las conexiones entre unidades recurrentes, a diferencia del dropout clásico ya que este se realiza en la capa de entrada y/o en la capa de salida."
      ]
    },
    {
      "cell_type": "markdown",
      "metadata": {
        "id": "8RpQzdiS_e03"
      },
      "source": [
        "##### II) Implemente sobre el código de Random Search la funcionalidad de realizar Cross-Validation con 5 Folds para cada red neuronal creada en el proceso de Random Search. Dado que se está trabajando con series de tiempo ocupe la función TimeSeriesSplit. Nuevamente **NO ENTRENE** las redes neuronales. El conjunto de entrenamiento y validación deben ser uno inicialmente para luego ser divididos en cada Fold, el conjunto de test se debiese mantener hasta el final. Calcule el error en el conjunto de validación de cada Fold y use el promedio de los 5 Folds para evaluar el rendimiento de cada red neuronal, encuentre los \"\"mejores\"\" parámetros/hiperparámetros basado en estos promedios.\n",
        "\n",
        "**Preguntas:**\n",
        "\n",
        "i) Visite la página https://scikit-learn.org/stable/modules/cross_validation.html . **Nombre y explique** el método TimeSeriesSplit y al menos otros 3 métodos de cross-validation. ¿Por qué time series split es adecuado para nuestro caso?\n",
        "\n",
        "ii) ¿Cuáles son los fundamentos de Cross Validation en general (como herramienta de selección de hiperparámetros)?"
      ]
    },
    {
      "cell_type": "code",
      "metadata": {
        "id": "D3W8RsKaBTNF",
        "colab": {
          "base_uri": "https://localhost:8080/"
        },
        "outputId": "4344432f-2c1a-4b37-d8c1-691c00fde448"
      },
      "source": [
        "from sklearn.model_selection import TimeSeriesSplit\n",
        "tscv = TimeSeriesSplit()\n",
        "\n",
        "data_tr_fold = [0,0,0,0,0]\n",
        "data_val_fold = [0,0,0,0,0]\n",
        "\n",
        "fold_tr = np.zeros((5))\n",
        "fold_val = np.zeros((5))\n",
        "\n",
        "data_tr_val, time_tr_val = data_hr[:int(data_hr.shape[0]*0.85)],time_hr[:int(data_hr.shape[0]*0.85)] # DIVIDE IN EACH FOLD\n",
        "\n",
        "data_tst, time_tst = data_hr[int(data_hr.shape[0]*0.85):],time_hr[int(data_hr.shape[0]*0.85):] # KEEP IT UNTIL THE END\n",
        "\n",
        "# se debiese estandarizar en cada Fold ajustando el scaler con la data de entrenamiento que se genere\n",
        "scaler_x = StandardScaler()\n",
        "\n",
        "\n",
        "#Random Search + Cross-Validation con 5 Folds\n",
        "val = np.zeros((5))\n",
        "for train_index, val_index in tscv.split(data_tr_val):\n",
        "  scaler_x.fit(data_tr_val[train_index])\n",
        "  optimizers = [SGD, Adam, RMSprop, Adagrad, Adadelta]\n",
        "  kernel_initializers = ['he_uniform','glorot_normal','glorot_uniform']\n",
        "  activations = ['sigmoid','tanh']\n",
        "  inputs = ['univariada', 'multivariada'] #univariado o multivariado\n",
        "  val_h=[]\n",
        "  config = []\n",
        "  for random_search in range(100):\n",
        "    prof_rnn=np.random.randint(1,4)\n",
        "    neu_rnn=[np.random.randint(20,40) for t in range(prof_rnn)]\n",
        "    optimizer = optimizers[np.random.randint(0,4)]\n",
        "    activation = activations[np.random.randint(0,1)]\n",
        "    input = inputs[np.random.randint(0,1)]\n",
        "    kernel_initializer = kernel_initializers[np.random.randint(0,3)]\n",
        "    rec_drop=np.random.uniform(0,0.7)\n",
        "    learn_rate = np.random.uniform(1e-6, 1e-1)\n",
        "    learn_decay = np.random.uniform(1e-6, 1e-1)\n",
        "\n",
        "    if( input == 'univariada'):\n",
        "      input_lstm= input_layer.Input(shape=(scaler_x.transform(data_tr_val[train_index]).shape[1],1))\n",
        "      for i,neu in enumerate(neu_rnn):\n",
        "        if i==0: rnn=layers.LSTM(units=neu_rnn[0],return_sequences=True,recurrent_dropout=rec_drop, kernel_initializer=kernel_initializer)(input_lstm)\n",
        "        else: rnn=layers.LSTM(units=56,return_sequences=(i+1<prof_rnn),recurrent_dropout=rec_drop, kernel_initializer=kernel_initializer)(rnn)\n",
        "      dens=layers.Dense(len_out, activation=activation)(rnn)\n",
        "      model=models.Model(inputs=input_lstm, outputs=dens)\n",
        "      model.compile(loss='mse', optimizer=optimizer(decay=learn_decay, learning_rate=learn_rate))\n",
        "      y_pred=model(scaler_x.transform(data_tr_val[val_index])[:,:])\n",
        "    \n",
        "    else:\n",
        "      input_lstm= input_layer.Input(shape=(scaler_x.transform(data_tr_val[train_index]).shape[1:]))\n",
        "      for i,neu in enumerate(neu_rnn):\n",
        "        if i==0: rnn=layers.LSTM(units=neu_rnn[0],return_sequences=True,recurrent_dropout=rec_drop, kernel_initializer=kernel_initializer)(input_lstm)\n",
        "        else: rnn=layers.LSTM(units=56,return_sequences=(i+1<prof_rnn),recurrent_dropout=rec_drop, kernel_initializer=kernel_initializer)(rnn)\n",
        "      dens=layers.Dense(len_out, activation=activation)(rnn)\n",
        "      model=models.Model(inputs=input_lstm, outputs=dens)\n",
        "\n",
        "      model.compile(loss='mse', optimizer=optimizer(decay=learn_decay, learning_rate=learn_rate))\n",
        "      y_pred=model(scaler_x.transform(data_tr_val[val_index]))\n",
        "    val[i]=tf.math.reduce_mean(tf.keras.losses.MSE(y_val[1], y_pred)).numpy()\n",
        "\n",
        "    val_loss = val.mean()\n",
        "    val_h.append(val_loss)\n",
        "    config.append([prof_rnn,neu_rnn,rec_drop,optimizer,activation,input,kernel_initializer,learn_rate,learn_decay])\n",
        "  index = np.argmin(np.array(val_h))\n",
        "  print(index+1,\"° --->  Profundidad rnn: \",config[index][0], \" | N° neuronas: \", config[index][1], \" | Recurrent dropout: \", config[index][2])\n",
        "  print(\"  ° --->  Optimizador: \",config[index][3], \" | F. Activación: \", config[index][4], \" | Entrada: \", config[index][5])\n",
        "  print(\"  ° --->  Inic. Kernel: \",config[index][6], \" | Learning rate: \", config[index][7], \" | Learn Decay: \", config[index][8])\n",
        "  print(\"Validation error: \",val_h[index])\n",
        "  print(\"-\"*120)"
      ],
      "execution_count": null,
      "outputs": [
        {
          "output_type": "stream",
          "text": [
            "1 ° --->  Profundidad rnn:  2  | N° neuronas:  [36, 28]  | Recurrent dropout:  0.6685196925058744\n",
            "  ° --->  Optimizador:  <class 'tensorflow.python.keras.optimizer_v2.rmsprop.RMSprop'>  | F. Activación:  sigmoid  | Entrada:  univariada\n",
            "  ° --->  Inic. Kernel:  glorot_normal  | Learning rate:  0.02228843183578243  | Learn Decay:  0.06625041963915146\n",
            "Validation error:  0.22697839736938477\n",
            "------------------------------------------------------------------------------------------------------------------------\n",
            "99 ° --->  Profundidad rnn:  3  | N° neuronas:  [23, 29, 25]  | Recurrent dropout:  0.44329061858004853\n",
            "  ° --->  Optimizador:  <class 'tensorflow.python.keras.optimizer_v2.gradient_descent.SGD'>  | F. Activación:  sigmoid  | Entrada:  univariada\n",
            "  ° --->  Inic. Kernel:  he_uniform  | Learning rate:  0.06060491925924003  | Learn Decay:  0.09388175545430255\n",
            "Validation error:  0.6684823274612427\n",
            "------------------------------------------------------------------------------------------------------------------------\n",
            "98 ° --->  Profundidad rnn:  2  | N° neuronas:  [26, 39]  | Recurrent dropout:  0.5465277720157858\n",
            "  ° --->  Optimizador:  <class 'tensorflow.python.keras.optimizer_v2.rmsprop.RMSprop'>  | F. Activación:  sigmoid  | Entrada:  univariada\n",
            "  ° --->  Inic. Kernel:  he_uniform  | Learning rate:  0.004512350199952758  | Learn Decay:  0.005418717763591576\n",
            "Validation error:  0.6703359842300415\n",
            "------------------------------------------------------------------------------------------------------------------------\n",
            "1 ° --->  Profundidad rnn:  3  | N° neuronas:  [34, 32, 33]  | Recurrent dropout:  0.6924081726173591\n",
            "  ° --->  Optimizador:  <class 'tensorflow.python.keras.optimizer_v2.adagrad.Adagrad'>  | F. Activación:  sigmoid  | Entrada:  univariada\n",
            "  ° --->  Inic. Kernel:  he_uniform  | Learning rate:  0.07920044314427181  | Learn Decay:  0.0368943157172517\n",
            "Validation error:  0.6687987565994262\n",
            "------------------------------------------------------------------------------------------------------------------------\n",
            "72 ° --->  Profundidad rnn:  1  | N° neuronas:  [35]  | Recurrent dropout:  0.0787974936859724\n",
            "  ° --->  Optimizador:  <class 'tensorflow.python.keras.optimizer_v2.adam.Adam'>  | F. Activación:  sigmoid  | Entrada:  univariada\n",
            "  ° --->  Inic. Kernel:  glorot_uniform  | Learning rate:  0.03505051138971901  | Learn Decay:  0.06901380133593084\n",
            "Validation error:  0.6741941690444946\n",
            "------------------------------------------------------------------------------------------------------------------------\n"
          ],
          "name": "stdout"
        }
      ]
    },
    {
      "cell_type": "markdown",
      "metadata": {
        "id": "6NKrEFU_JQww"
      },
      "source": [
        "**Respuestas**\r\n",
        "\r\n",
        "i) Visite la página https://scikit-learn.org/stable/modules/cross_validation.html . Nombre y explique el método TimeSeriesSplit y al menos otros 3 métodos de cross-validation. ¿Por qué time series split es adecuado para nuestro caso?\r\n",
        "\r\n",
        "El método TimeSeriesSplit entrega los primeros k-fold como conjunto de entrenamiento, y los siguientes como conjunto de test, en este caso ese será el conjunto de validación. Se agregan datos del conjunto de validación en el conjunto de entrenamiento posterior, para no desechar los datos del conjunto de validación.\r\n",
        "\r\n",
        "* K-fold:\r\n",
        "Divide todas las muestras en grupos (llamados fold). La red aprende usando estos folds para predecir y los que no son usados en entrenamiento, se utilizan para realizar las pruebas.\r\n",
        "\r\n",
        "* Stratified k-fold:\r\n",
        "Es una variación de k-fold, que soluciona el problema de clasificación que ocurre cuando las clases tienen una proporción, este método permite dividir la data manteniendo esa proporción.\r\n",
        "\r\n",
        "* Leave One Out (LOO)\r\n",
        "En cada set creado se toman todas las muestras menos 1, el cual pertenece al conjunto de entrenamiento. De esta forma, se evita desperdiciar muchos datos ya que solo se quita 1 del conjunto de entrenamiento.\r\n",
        "\r\n",
        "Es adecuado para este problema porque es el único método de Cross Validation que considera las series de tiempo, es decir, el tiempo es secuencial y los intervalos son fijos. \r\n",
        "\r\n",
        "\r\n",
        "ii) ¿Cuáles son los fundamentos de Cross Validation en general (como herramienta de selección de hiperparámetros)?\r\n",
        "\r\n",
        "Los fundamentos de Cross Validation, es tomar un conjunto de validación más prometedor. Para este caso se tomaron todos los datos secuenciales entre el conjunto de entrenamiento y prueba, sin embargo, utilizando cross validation, se busca tomar datos en todo el arreglo, y que para un fold, una parte sea de entrenamiento y otra de validación, estos datos no necesariamente se encuentran al inicio o al final, teniendo así más variedad que en un comienzo. \r\n",
        "\r\n",
        "De esta forma, se busca un mejor conjunto de validación para setear los hiperparámetros y reducir el error de generalización en ese conjunto de datos. Así, se busca tener un mejor modelo que pueda obtener menor error de generalización en las pruebas utilizando los \"mejores\" hiperparámetros definidos por el conjunto de validación."
      ]
    }
  ]
}